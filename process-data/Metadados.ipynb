{
 "cells": [
  {
   "cell_type": "markdown",
   "id": "82e5623f-0ef4-4df3-a455-48b6ac0fe6b3",
   "metadata": {},
   "source": [
    "# Importações iniciais"
   ]
  },
  {
   "cell_type": "code",
   "execution_count": 51,
   "id": "5f6de3bb-5485-455b-9665-288656b26c44",
   "metadata": {
    "id": "heANwnH0jPX_"
   },
   "outputs": [],
   "source": [
    "import pandas as pd"
   ]
  },
  {
   "cell_type": "code",
   "execution_count": 52,
   "id": "c36ba6c3-975b-44bb-b707-a69a8ea2bdcc",
   "metadata": {},
   "outputs": [],
   "source": [
    "ST = pd.read_csv(\"STSC202202.csv\",low_memory=False)"
   ]
  },
  {
   "cell_type": "markdown",
   "id": "983fe343-9f3e-45af-a582-f2a74a5d4764",
   "metadata": {},
   "source": [
    "## Tipos de leito"
   ]
  },
  {
   "cell_type": "code",
   "execution_count": 53,
   "id": "8f3a7e91-8895-4837-ac2b-45ab15046b77",
   "metadata": {},
   "outputs": [],
   "source": [
    "ST.rename(columns={\"QTLEITP1\": \"leito_cirurgico\", \"QTLEITP2\": \"leito_clinico\", \"QTLEITP3\": \"leito_complementar\"},inplace=True)"
   ]
  },
  {
   "cell_type": "markdown",
   "id": "e04b705c-9284-4fb3-b1ea-09954b3cfb32",
   "metadata": {},
   "source": [
    "## Agregando dados"
   ]
  },
  {
   "cell_type": "markdown",
   "id": "7a45cd50-a016-4b16-b2fe-6b85e6854b06",
   "metadata": {},
   "source": [
    "## Leitos gerais"
   ]
  },
  {
   "cell_type": "code",
   "execution_count": 54,
   "id": "da05e646-4208-43d4-8cd7-b500b911a153",
   "metadata": {},
   "outputs": [],
   "source": [
    "leitos_columns = [x for x in ST.columns if x.startswith(\"QTLEIT\")]\n",
    "leitos = ST[leitos_columns].apply(sum, axis=1)\n",
    "ST[\"leitos\"] = leitos\n",
    "ST.drop(labels=leitos_columns,axis=\"columns\",inplace=True)"
   ]
  },
  {
   "cell_type": "markdown",
   "id": "f334f594-3b37-4e25-b47b-e1d650b4271f",
   "metadata": {},
   "source": [
    "## Consultórios"
   ]
  },
  {
   "cell_type": "code",
   "execution_count": 55,
   "id": "6975fa8c-a65a-44b1-b114-482899458d2e",
   "metadata": {},
   "outputs": [],
   "source": [
    "consultorios_columns = [x for x in ST.columns if x.startswith(\"QTINST\")]\n",
    "consultorios = ST[consultorios_columns].apply(sum, axis=1)\n",
    "ST[\"consultorios\"] = consultorios\n",
    "ST.drop(labels=consultorios_columns,axis=\"columns\",inplace=True)"
   ]
  },
  {
   "cell_type": "markdown",
   "id": "dc25f956-124c-4bff-adb7-524b8c552b91",
   "metadata": {},
   "source": [
    "## Metadados"
   ]
  },
  {
   "cell_type": "code",
   "execution_count": 6,
   "id": "f91527e6-2435-45ca-a5c5-a4779e1b9fb1",
   "metadata": {},
   "outputs": [],
   "source": [
    "atendimento_hospitalar = {\n",
    "    \"URGEMERG\": \"URGÊNCIA/EMERGÊNCIA\",\n",
    "    \"ATENDAMB\": \"ATENDIMENTO AMBULATORIAL\",\n",
    "    \"CENTRCIR\": \"ATENDIMENTO HOSPITALAR-CENTRO CIRÚRGICO\",\n",
    "    \"CENTROBS\": \"ATENDIMENTO HOSPITALAR-CENTRO OBSTÉTRICO\",\n",
    "    \"CENTRNEO\": \"ATENDIMENTO HOSPITALAR-UNIDADE NEONATAL\",\n",
    "    \"ATENDHOS\": \"ATENDIMENTO HOSPITALAR\"\n",
    "}\n",
    "\n",
    "tipos_atendimento = {\n",
    "    \"AP01\": \"INTERNACAO\",\n",
    "    \"AP02\": \"AMBULATORIAL\",\n",
    "    \"AP03\": \"SADT\",\n",
    "    \"AP04\": \"URGENCIA\",\n",
    "    \"AP05\": \"OUTROS\",\n",
    "    \"AP06\": \"VIGILANCIA\",\n",
    "    \"AP07\": \"REGULACAO\"\n",
    "}\n",
    "\n",
    "tipos_convênio = {\n",
    "    \"CV01\": \"SUS\",\n",
    "    \"CV02\": \"PARTICULAR\",\n",
    "    \"CV03\": \"PLANO-SEGURO PROPRIO\",\n",
    "    \"CV04\": \"PLANO-SEGURO TERCEIRO\",\n",
    "    \"CV05\": \"PLANO de SAUDE PUBLICO\",\n",
    "    \"CV06\": \"SAUDE PRIVADO\"\n",
    "}\n",
    "\n"
   ]
  },
  {
   "cell_type": "code",
   "execution_count": 7,
   "id": "f1d1a7c5-99ae-4ba1-b111-178fc5996b87",
   "metadata": {},
   "outputs": [],
   "source": [
    "ATENDIMENTOS_CONVENIOS = {}\n",
    "for key1, val1 in tipos_atendimento.items():\n",
    "    for key2, val2 in tipos_convênio.items():\n",
    "        ATENDIMENTOS_CONVENIOS[key1+key2] = f\"{val1} ({val2})\""
   ]
  },
  {
   "cell_type": "code",
   "execution_count": 8,
   "id": "5ac8d7d4-d30c-4c87-bd74-9fd56020e67e",
   "metadata": {
    "collapsed": true,
    "jupyter": {
     "outputs_hidden": true
    },
    "tags": []
   },
   "outputs": [
    {
     "data": {
      "text/plain": [
       "{'AP01CV01': 'INTERNACAO (SUS)',\n",
       " 'AP01CV02': 'INTERNACAO (PARTICULAR)',\n",
       " 'AP01CV03': 'INTERNACAO (PLANO-SEGURO PROPRIO)',\n",
       " 'AP01CV04': 'INTERNACAO (PLANO-SEGURO TERCEIRO)',\n",
       " 'AP01CV05': 'INTERNACAO (PLANO de SAUDE PUBLICO)',\n",
       " 'AP01CV06': 'INTERNACAO (SAUDE PRIVADO)',\n",
       " 'AP02CV01': 'AMBULATORIAL (SUS)',\n",
       " 'AP02CV02': 'AMBULATORIAL (PARTICULAR)',\n",
       " 'AP02CV03': 'AMBULATORIAL (PLANO-SEGURO PROPRIO)',\n",
       " 'AP02CV04': 'AMBULATORIAL (PLANO-SEGURO TERCEIRO)',\n",
       " 'AP02CV05': 'AMBULATORIAL (PLANO de SAUDE PUBLICO)',\n",
       " 'AP02CV06': 'AMBULATORIAL (SAUDE PRIVADO)',\n",
       " 'AP03CV01': 'SADT (SUS)',\n",
       " 'AP03CV02': 'SADT (PARTICULAR)',\n",
       " 'AP03CV03': 'SADT (PLANO-SEGURO PROPRIO)',\n",
       " 'AP03CV04': 'SADT (PLANO-SEGURO TERCEIRO)',\n",
       " 'AP03CV05': 'SADT (PLANO de SAUDE PUBLICO)',\n",
       " 'AP03CV06': 'SADT (SAUDE PRIVADO)',\n",
       " 'AP04CV01': 'URGENCIA (SUS)',\n",
       " 'AP04CV02': 'URGENCIA (PARTICULAR)',\n",
       " 'AP04CV03': 'URGENCIA (PLANO-SEGURO PROPRIO)',\n",
       " 'AP04CV04': 'URGENCIA (PLANO-SEGURO TERCEIRO)',\n",
       " 'AP04CV05': 'URGENCIA (PLANO de SAUDE PUBLICO)',\n",
       " 'AP04CV06': 'URGENCIA (SAUDE PRIVADO)',\n",
       " 'AP05CV01': 'OUTROS (SUS)',\n",
       " 'AP05CV02': 'OUTROS (PARTICULAR)',\n",
       " 'AP05CV03': 'OUTROS (PLANO-SEGURO PROPRIO)',\n",
       " 'AP05CV04': 'OUTROS (PLANO-SEGURO TERCEIRO)',\n",
       " 'AP05CV05': 'OUTROS (PLANO de SAUDE PUBLICO)',\n",
       " 'AP05CV06': 'OUTROS (SAUDE PRIVADO)',\n",
       " 'AP06CV01': 'VIGILANCIA (SUS)',\n",
       " 'AP06CV02': 'VIGILANCIA (PARTICULAR)',\n",
       " 'AP06CV03': 'VIGILANCIA (PLANO-SEGURO PROPRIO)',\n",
       " 'AP06CV04': 'VIGILANCIA (PLANO-SEGURO TERCEIRO)',\n",
       " 'AP06CV05': 'VIGILANCIA (PLANO de SAUDE PUBLICO)',\n",
       " 'AP06CV06': 'VIGILANCIA (SAUDE PRIVADO)',\n",
       " 'AP07CV01': 'REGULACAO (SUS)',\n",
       " 'AP07CV02': 'REGULACAO (PARTICULAR)',\n",
       " 'AP07CV03': 'REGULACAO (PLANO-SEGURO PROPRIO)',\n",
       " 'AP07CV04': 'REGULACAO (PLANO-SEGURO TERCEIRO)',\n",
       " 'AP07CV05': 'REGULACAO (PLANO de SAUDE PUBLICO)',\n",
       " 'AP07CV06': 'REGULACAO (SAUDE PRIVADO)'}"
      ]
     },
     "execution_count": 8,
     "metadata": {},
     "output_type": "execute_result"
    }
   ],
   "source": [
    "ATENDIMENTOS_CONVENIOS"
   ]
  },
  {
   "cell_type": "code",
   "execution_count": 9,
   "id": "12e5a3b4-3905-4c7b-8f0e-90f406582b0f",
   "metadata": {},
   "outputs": [],
   "source": [
    "for key, val in tipos_atendimento.items():\n",
    "    colunas = [x for x in ST.columns if x.startswith(key)]\n",
    "    ST[\"servico_\" + val.lower()] = ST[colunas].apply(sum,axis=1)"
   ]
  },
  {
   "cell_type": "code",
   "execution_count": 10,
   "id": "2fb709c2-177b-45a1-9424-0ced2199f0ea",
   "metadata": {},
   "outputs": [],
   "source": [
    "programa = {\n",
    "    \"G1\": \"Atenção Básica Ambulatorial\",\n",
    "    \"G2\": \"Média Complexidade Ambulatorial\",\n",
    "    \"G3\": \"Cod 3\",\n",
    "    \"G4\": \"Alta Complexidade Ambulatorial\",\n",
    "    \"G5\": \"Média Complexidade Hospitalar\",\n",
    "    \"G6\": \"Alta Complexidade Hospitalar\"\n",
    "}\n",
    "\n",
    "PROGRAMAS = {}\n",
    "for x, label in [(\"E\", \" (Estadual)\"), (\"M\", \" (Municipal)\")]:\n",
    "    for key, val in programa.items():\n",
    "        PROGRAMAS[\"GESPR\"+key+x] = val + label"
   ]
  },
  {
   "cell_type": "code",
   "execution_count": 11,
   "id": "73bcbbd8-9bc7-4189-94cf-c22fb9b98a9d",
   "metadata": {
    "tags": []
   },
   "outputs": [
    {
     "data": {
      "text/plain": [
       "{'GESPRG1E': 'Atenção Básica Ambulatorial (Estadual)',\n",
       " 'GESPRG2E': 'Média Complexidade Ambulatorial (Estadual)',\n",
       " 'GESPRG3E': 'Cod 3 (Estadual)',\n",
       " 'GESPRG4E': 'Alta Complexidade Ambulatorial (Estadual)',\n",
       " 'GESPRG5E': 'Média Complexidade Hospitalar (Estadual)',\n",
       " 'GESPRG6E': 'Alta Complexidade Hospitalar (Estadual)',\n",
       " 'GESPRG1M': 'Atenção Básica Ambulatorial (Municipal)',\n",
       " 'GESPRG2M': 'Média Complexidade Ambulatorial (Municipal)',\n",
       " 'GESPRG3M': 'Cod 3 (Municipal)',\n",
       " 'GESPRG4M': 'Alta Complexidade Ambulatorial (Municipal)',\n",
       " 'GESPRG5M': 'Média Complexidade Hospitalar (Municipal)',\n",
       " 'GESPRG6M': 'Alta Complexidade Hospitalar (Municipal)'}"
      ]
     },
     "execution_count": 11,
     "metadata": {},
     "output_type": "execute_result"
    }
   ],
   "source": [
    "PROGRAMAS"
   ]
  },
  {
   "cell_type": "code",
   "execution_count": 12,
   "id": "44fb8459-d260-4410-bb9d-cd3eddfa2805",
   "metadata": {},
   "outputs": [],
   "source": [
    "from collections import Counter"
   ]
  },
  {
   "cell_type": "code",
   "execution_count": 13,
   "id": "c476d5ee-9842-4fca-babd-ccf7a16868dc",
   "metadata": {},
   "outputs": [],
   "source": [
    "colunas = [x for x in ST.columns if x.startswith(\"servico_\")]\n",
    "SERVICOS = {}\n",
    "for x in colunas:\n",
    "    SERVICOS[x] = Counter(ST[x].values)"
   ]
  },
  {
   "cell_type": "code",
   "execution_count": 14,
   "id": "e18e2412-c5af-48c8-bc17-b1286b55a75c",
   "metadata": {},
   "outputs": [
    {
     "data": {
      "text/plain": [
       "{'servico_internacao': Counter({0: 21174, 2: 97, 3: 71, 1: 75, 4: 33}),\n",
       " 'servico_ambulatorial': Counter({2: 7181,\n",
       "          1: 9983,\n",
       "          0: 2603,\n",
       "          3: 1438,\n",
       "          4: 243,\n",
       "          5: 2}),\n",
       " 'servico_sadt': Counter({0: 18825, 2: 959, 1: 1182, 4: 106, 3: 377, 5: 1}),\n",
       " 'servico_urgencia': Counter({0: 20797, 2: 137, 1: 421, 3: 66, 4: 29}),\n",
       " 'servico_outros': Counter({0: 20407, 1: 957, 2: 81, 3: 5}),\n",
       " 'servico_vigilancia': Counter({1: 684, 0: 20764, 2: 2}),\n",
       " 'servico_regulacao': Counter({0: 20919, 1: 526, 2: 2, 4: 3})}"
      ]
     },
     "execution_count": 14,
     "metadata": {},
     "output_type": "execute_result"
    }
   ],
   "source": [
    "SERVICOS"
   ]
  },
  {
   "cell_type": "markdown",
   "id": "ab0077cd-2dfe-4735-8a34-a26e25c0edd3",
   "metadata": {},
   "source": [
    "# Iterando sobre o dataset"
   ]
  },
  {
   "cell_type": "code",
   "execution_count": 33,
   "id": "e8721a27-2086-4873-8c16-3050c0365559",
   "metadata": {},
   "outputs": [],
   "source": [
    "metadados = pd.DataFrame(columns=[\"CNES\", \"key\", \"value\"], dtype=\"category\")"
   ]
  },
  {
   "cell_type": "code",
   "execution_count": 30,
   "id": "ce79a2ed-7a4b-4b7c-8a28-eb155f141634",
   "metadata": {},
   "outputs": [],
   "source": [
    "def append_metadados(CNES, key, val):\n",
    "    global metadados\n",
    "    new_val = pd.Series([CNES, key, val], index=[\"CNES\", \"key\", \"value\"])\n",
    "    metadados = pd.concat([metadados, new_val.to_frame().T], ignore_index=True)"
   ]
  },
  {
   "cell_type": "code",
   "execution_count": 34,
   "id": "07fdbeae-28f2-4e5e-b1cd-fa372257025f",
   "metadata": {},
   "outputs": [
    {
     "data": {
      "text/html": [
       "<div>\n",
       "<style scoped>\n",
       "    .dataframe tbody tr th:only-of-type {\n",
       "        vertical-align: middle;\n",
       "    }\n",
       "\n",
       "    .dataframe tbody tr th {\n",
       "        vertical-align: top;\n",
       "    }\n",
       "\n",
       "    .dataframe thead th {\n",
       "        text-align: right;\n",
       "    }\n",
       "</style>\n",
       "<table border=\"1\" class=\"dataframe\">\n",
       "  <thead>\n",
       "    <tr style=\"text-align: right;\">\n",
       "      <th></th>\n",
       "      <th>CNES</th>\n",
       "      <th>key</th>\n",
       "      <th>value</th>\n",
       "    </tr>\n",
       "  </thead>\n",
       "  <tbody>\n",
       "  </tbody>\n",
       "</table>\n",
       "</div>"
      ],
      "text/plain": [
       "Empty DataFrame\n",
       "Columns: [CNES, key, value]\n",
       "Index: []"
      ]
     },
     "execution_count": 34,
     "metadata": {},
     "output_type": "execute_result"
    }
   ],
   "source": [
    "metadados"
   ]
  },
  {
   "cell_type": "code",
   "execution_count": 35,
   "id": "a44921f0-59d6-41da-b71e-ea05aec6e47c",
   "metadata": {},
   "outputs": [],
   "source": [
    "for i, reg in ST.iterrows(): \n",
    "    for key, val in ATENDIMENTOS_CONVENIOS.items():\n",
    "        if reg[key] == 1:\n",
    "            append_metadados(reg.CNES, \"atendimentos\", val)\n",
    "    for key, val in PROGRAMAS.items():\n",
    "        if reg[key] == 1:\n",
    "            append_metadados(reg.CNES, \"programa\", val)\n",
    "    for key, val in atendimento_hospitalar.items():\n",
    "        if reg[key] == 1:\n",
    "            append_metadados(reg.CNES, \"hospital\", val)"
   ]
  },
  {
   "cell_type": "code",
   "execution_count": 37,
   "id": "7dab2153-9669-47cf-a55a-2401f61bfb42",
   "metadata": {},
   "outputs": [],
   "source": [
    "metadados.to_csv(\"metadados.csv\", index=False)"
   ]
  },
  {
   "cell_type": "code",
   "execution_count": 66,
   "id": "bdfef4d6-c5cf-4ea2-8048-b239decef3d0",
   "metadata": {},
   "outputs": [],
   "source": [
    "metadados.to_pickle(\"metadados.pd.pkl\")"
   ]
  },
  {
   "cell_type": "code",
   "execution_count": 56,
   "id": "d602ac18-8421-4a58-b4fd-53fd562f99d5",
   "metadata": {},
   "outputs": [],
   "source": [
    "interesse = [\"CNES\", \"CODUFMUN\", \"COD_CEP\",  \"leito_cirurgico\", \"leito_clinico\", \"leito_complementar\", \"leitos\", \"consultorios\" ]"
   ]
  },
  {
   "cell_type": "code",
   "execution_count": 65,
   "id": "2334b617-8969-495d-99a3-96a4ad56f089",
   "metadata": {},
   "outputs": [],
   "source": [
    "ST[interesse].to_pickle(\"dados.pd.pkl\")"
   ]
  },
  {
   "cell_type": "code",
   "execution_count": null,
   "id": "5f6b73c8-3d62-48ad-9c0d-5d282dace995",
   "metadata": {},
   "outputs": [],
   "source": []
  }
 ],
 "metadata": {
  "kernelspec": {
   "display_name": "Python 3 (ipykernel)",
   "language": "python",
   "name": "python3"
  },
  "language_info": {
   "codemirror_mode": {
    "name": "ipython",
    "version": 3
   },
   "file_extension": ".py",
   "mimetype": "text/x-python",
   "name": "python",
   "nbconvert_exporter": "python",
   "pygments_lexer": "ipython3",
   "version": "3.8.10"
  }
 },
 "nbformat": 4,
 "nbformat_minor": 5
}

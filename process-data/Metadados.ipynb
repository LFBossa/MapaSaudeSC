{
 "cells": [
  {
   "cell_type": "markdown",
   "id": "82e5623f-0ef4-4df3-a455-48b6ac0fe6b3",
   "metadata": {},
   "source": [
    "# Importações iniciais"
   ]
  },
  {
   "cell_type": "code",
   "execution_count": 1,
   "id": "5f6de3bb-5485-455b-9665-288656b26c44",
   "metadata": {
    "id": "heANwnH0jPX_"
   },
   "outputs": [],
   "source": [
    "import pandas as pd"
   ]
  },
  {
   "cell_type": "code",
   "execution_count": 2,
   "id": "c36ba6c3-975b-44bb-b707-a69a8ea2bdcc",
   "metadata": {},
   "outputs": [],
   "source": [
    "ST = pd.read_csv(\"../data/estabelecimentos/STSC202202.csv\",low_memory=False)"
   ]
  },
  {
   "cell_type": "markdown",
   "id": "983fe343-9f3e-45af-a582-f2a74a5d4764",
   "metadata": {},
   "source": [
    "## Tipos de leito"
   ]
  },
  {
   "cell_type": "code",
   "execution_count": 3,
   "id": "8f3a7e91-8895-4837-ac2b-45ab15046b77",
   "metadata": {},
   "outputs": [],
   "source": [
    "ST.rename(columns={\"QTLEITP1\": \"leito_cirurgico\", \"QTLEITP2\": \"leito_clinico\", \"QTLEITP3\": \"leito_complementar\"},inplace=True)"
   ]
  },
  {
   "cell_type": "markdown",
   "id": "e04b705c-9284-4fb3-b1ea-09954b3cfb32",
   "metadata": {},
   "source": [
    "## Agregando dados"
   ]
  },
  {
   "cell_type": "markdown",
   "id": "7a45cd50-a016-4b16-b2fe-6b85e6854b06",
   "metadata": {},
   "source": [
    "## Leitos gerais"
   ]
  },
  {
   "cell_type": "code",
   "execution_count": 4,
   "id": "da05e646-4208-43d4-8cd7-b500b911a153",
   "metadata": {},
   "outputs": [],
   "source": [
    "leitos_columns = [x for x in ST.columns if x.startswith(\"QTLEIT\")]\n",
    "leitos = ST[leitos_columns].apply(sum, axis=1)\n",
    "ST[\"leitos\"] = leitos\n",
    "ST.drop(labels=leitos_columns,axis=\"columns\",inplace=True)"
   ]
  },
  {
   "cell_type": "markdown",
   "id": "f334f594-3b37-4e25-b47b-e1d650b4271f",
   "metadata": {},
   "source": [
    "## Consultórios"
   ]
  },
  {
   "cell_type": "code",
   "execution_count": 5,
   "id": "6975fa8c-a65a-44b1-b114-482899458d2e",
   "metadata": {},
   "outputs": [],
   "source": [
    "consultorios_columns = [x for x in ST.columns if x.startswith(\"QTINST\")]\n",
    "consultorios = ST[consultorios_columns].apply(sum, axis=1)\n",
    "ST[\"consultorios\"] = consultorios\n",
    "ST.drop(labels=consultorios_columns,axis=\"columns\",inplace=True)"
   ]
  },
  {
   "cell_type": "markdown",
   "id": "dc25f956-124c-4bff-adb7-524b8c552b91",
   "metadata": {},
   "source": [
    "## Metadados"
   ]
  },
  {
   "cell_type": "code",
   "execution_count": 6,
   "id": "f91527e6-2435-45ca-a5c5-a4779e1b9fb1",
   "metadata": {},
   "outputs": [],
   "source": [
    "atendimento_hospitalar = {\n",
    "    \"URGEMERG\": \"URGÊNCIA/EMERGÊNCIA\",\n",
    "    \"ATENDAMB\": \"ATENDIMENTO AMBULATORIAL\",\n",
    "    \"CENTRCIR\": \"ATENDIMENTO HOSPITALAR-CENTRO CIRÚRGICO\",\n",
    "    \"CENTROBS\": \"ATENDIMENTO HOSPITALAR-CENTRO OBSTÉTRICO\",\n",
    "    \"CENTRNEO\": \"ATENDIMENTO HOSPITALAR-UNIDADE NEONATAL\",\n",
    "    \"ATENDHOS\": \"ATENDIMENTO HOSPITALAR\"\n",
    "}\n",
    "\n",
    "tipos_atendimento = {\n",
    "    \"AP01\": \"INTERNACAO\",\n",
    "    \"AP02\": \"AMBULATORIAL\",\n",
    "    \"AP03\": \"SADT\",\n",
    "    \"AP04\": \"URGENCIA\",\n",
    "    \"AP05\": \"OUTROS\",\n",
    "    \"AP06\": \"VIGILANCIA\",\n",
    "    \"AP07\": \"REGULACAO\"\n",
    "}\n",
    "\n",
    "tipos_convênio = {\n",
    "    \"CV01\": \"SUS\",\n",
    "    \"CV02\": \"PARTICULAR\",\n",
    "    \"CV03\": \"PLANO-SEGURO PROPRIO\",\n",
    "    \"CV04\": \"PLANO-SEGURO TERCEIRO\",\n",
    "    \"CV05\": \"PLANO de SAUDE PUBLICO\",\n",
    "    \"CV06\": \"SAUDE PRIVADO\"\n",
    "}\n",
    "\n"
   ]
  },
  {
   "cell_type": "code",
   "execution_count": 7,
   "id": "f1d1a7c5-99ae-4ba1-b111-178fc5996b87",
   "metadata": {},
   "outputs": [],
   "source": [
    "ATENDIMENTOS_CONVENIOS = {}\n",
    "for key1, val1 in tipos_atendimento.items():\n",
    "    for key2, val2 in tipos_convênio.items():\n",
    "        ATENDIMENTOS_CONVENIOS[key1+key2] = f\"{val1} ({val2})\""
   ]
  },
  {
   "cell_type": "code",
   "execution_count": 9,
   "id": "12e5a3b4-3905-4c7b-8f0e-90f406582b0f",
   "metadata": {},
   "outputs": [],
   "source": [
    "for key, val in tipos_atendimento.items():\n",
    "    colunas = [x for x in ST.columns if x.startswith(key)]\n",
    "    ST[\"servico_\" + val.lower()] = ST[colunas].apply(sum,axis=1)"
   ]
  },
  {
   "cell_type": "code",
   "execution_count": 10,
   "id": "2fb709c2-177b-45a1-9424-0ced2199f0ea",
   "metadata": {},
   "outputs": [],
   "source": [
    "programa = {\n",
    "    \"G1\": \"Atenção Básica Ambulatorial\",\n",
    "    \"G2\": \"Média Complexidade Ambulatorial\",\n",
    "    \"G3\": \"Cod 3\",\n",
    "    \"G4\": \"Alta Complexidade Ambulatorial\",\n",
    "    \"G5\": \"Média Complexidade Hospitalar\",\n",
    "    \"G6\": \"Alta Complexidade Hospitalar\"\n",
    "}\n",
    "\n",
    "PROGRAMAS = {}\n",
    "for x, label in [(\"E\", \" (Estadual)\"), (\"M\", \" (Municipal)\")]:\n",
    "    for key, val in programa.items():\n",
    "        PROGRAMAS[\"GESPR\"+key+x] = val + label"
   ]
  },
  {
   "cell_type": "markdown",
   "id": "ab0077cd-2dfe-4735-8a34-a26e25c0edd3",
   "metadata": {},
   "source": [
    "# Iterando sobre o dataset"
   ]
  },
  {
   "cell_type": "code",
   "execution_count": 12,
   "id": "e8721a27-2086-4873-8c16-3050c0365559",
   "metadata": {},
   "outputs": [],
   "source": [
    "metadados = pd.DataFrame(columns=[\"CNES\", \"key\", \"value\"], dtype=\"category\")"
   ]
  },
  {
   "cell_type": "code",
   "execution_count": 13,
   "id": "ce79a2ed-7a4b-4b7c-8a28-eb155f141634",
   "metadata": {},
   "outputs": [],
   "source": [
    "def append_metadados(CNES, key, val):\n",
    "    global metadados\n",
    "    new_val = pd.Series([CNES, key, val], index=[\"CNES\", \"key\", \"value\"])\n",
    "    metadados = pd.concat([metadados, new_val.to_frame().T], ignore_index=True)"
   ]
  },
  {
   "cell_type": "code",
   "execution_count": 15,
   "id": "a44921f0-59d6-41da-b71e-ea05aec6e47c",
   "metadata": {},
   "outputs": [],
   "source": [
    "for i, reg in ST.iterrows(): \n",
    "    for key, val in ATENDIMENTOS_CONVENIOS.items():\n",
    "        if reg[key] == 1:\n",
    "            append_metadados(reg.CNES, \"atendimentos\", val)\n",
    "    for key, val in PROGRAMAS.items():\n",
    "        if reg[key] == 1:\n",
    "            append_metadados(reg.CNES, \"programa\", val)\n",
    "    for key, val in atendimento_hospitalar.items():\n",
    "        if reg[key] == 1:\n",
    "            append_metadados(reg.CNES, \"hospital\", val)"
   ]
  },
  {
   "cell_type": "code",
   "execution_count": 16,
   "id": "bdfef4d6-c5cf-4ea2-8048-b239decef3d0",
   "metadata": {},
   "outputs": [],
   "source": [
    "metadados.to_pickle(\"../parsed-data/metadados.pd.pkl\")"
   ]
  },
  {
   "cell_type": "code",
   "execution_count": 17,
   "id": "d602ac18-8421-4a58-b4fd-53fd562f99d5",
   "metadata": {},
   "outputs": [],
   "source": [
    "interesse = [\"CNES\", \"CODUFMUN\", \"COD_CEP\",  \"leito_cirurgico\", \"leito_clinico\", \"leito_complementar\", \"leitos\", \"consultorios\" ]"
   ]
  },
  {
   "cell_type": "code",
   "execution_count": 18,
   "id": "2334b617-8969-495d-99a3-96a4ad56f089",
   "metadata": {},
   "outputs": [],
   "source": [
    "ST[interesse].to_pickle(\"../parsed-data/dados.pd.pkl\")"
   ]
  }
 ],
 "metadata": {
  "kernelspec": {
   "display_name": "Python 3 (ipykernel)",
   "language": "python",
   "name": "python3"
  },
  "language_info": {
   "codemirror_mode": {
    "name": "ipython",
    "version": 3
   },
   "file_extension": ".py",
   "mimetype": "text/x-python",
   "name": "python",
   "nbconvert_exporter": "python",
   "pygments_lexer": "ipython3",
   "version": "3.8.10"
  }
 },
 "nbformat": 4,
 "nbformat_minor": 5
}

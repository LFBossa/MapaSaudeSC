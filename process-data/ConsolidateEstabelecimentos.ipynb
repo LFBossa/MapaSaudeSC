{
 "cells": [
  {
   "cell_type": "code",
   "execution_count": 1,
   "id": "1f6cab49-5d61-4089-8513-4b275c7bdde3",
   "metadata": {},
   "outputs": [],
   "source": [
    "import pandas as pd\n",
    "import pickle"
   ]
  },
  {
   "cell_type": "code",
   "execution_count": 2,
   "id": "7584a309-8d88-488d-9784-29de710b31a4",
   "metadata": {},
   "outputs": [],
   "source": [
    "st_dados = pd.read_pickle(\"../parsed-data/dados.pd.pkl\")"
   ]
  },
  {
   "cell_type": "code",
   "execution_count": 3,
   "id": "b06d6a1e-2ea8-4935-ab6d-548db1d58931",
   "metadata": {},
   "outputs": [],
   "source": [
    "st_metadados = pd.read_pickle(\"../parsed-data/metadados.pd.pkl\")  "
   ]
  },
  {
   "cell_type": "code",
   "execution_count": 4,
   "id": "aefd682d-a59c-466b-85af-3b02051ff31b",
   "metadata": {},
   "outputs": [],
   "source": [
    "geocodes = pd.read_pickle(\"../parsed-data/geocodes.pd.pkl\")"
   ]
  },
  {
   "cell_type": "code",
   "execution_count": 5,
   "id": "a2edcac4-404f-45e6-8e93-ecc5621886c4",
   "metadata": {},
   "outputs": [],
   "source": [
    "ceps = pd.read_csv(\"../data/geoloc/CEPdatabase.csv\")\n",
    "ceps.set_index(\"cep\", inplace=True)"
   ]
  },
  {
   "cell_type": "code",
   "execution_count": 6,
   "id": "c61c9c13-f14b-4c37-8125-ea18f0f0a344",
   "metadata": {},
   "outputs": [],
   "source": [
    "regioes = pd.read_csv(\"../data/geoloc/regioes-saude.csv\")\n",
    "regioes.set_index(\"CODIBGE\", inplace=True)"
   ]
  },
  {
   "cell_type": "code",
   "execution_count": 7,
   "id": "18c377c6-398d-4594-9772-c36b914984e4",
   "metadata": {},
   "outputs": [],
   "source": [
    "tipo_unidade = pd.read_csv(\"../data/estabelecimentos/tipo_unidade.csv\")\n",
    "tipo_unidade.set_index(\"cod\", inplace=True)"
   ]
  },
  {
   "cell_type": "code",
   "execution_count": 8,
   "id": "974dc6d0-7a41-43bf-bdce-d9fe11cc6a23",
   "metadata": {},
   "outputs": [],
   "source": [
    "CEPS_ERRADOS = []\n",
    "def pass_cep(codigo):\n",
    "    try:\n",
    "        x,y = ceps.loc[codigo,\"latitude\":\"longitude\"]\n",
    "    except KeyError: \n",
    "        print(f\"Erro com {codigo}\")\n",
    "        CEPS_ERRADOS.append(codigo)\n",
    "        x,y = None, None\n",
    "    return [x,y]"
   ]
  },
  {
   "cell_type": "code",
   "execution_count": 9,
   "id": "f269858d-ea3d-4aed-9cc4-49401da86062",
   "metadata": {},
   "outputs": [],
   "source": [
    "st_dados.set_index(\"CNES\",inplace=True)"
   ]
  },
  {
   "cell_type": "code",
   "execution_count": 10,
   "id": "a0e63857-c026-4736-8545-d70864c45387",
   "metadata": {},
   "outputs": [],
   "source": [
    "ST = pd.read_csv(\"../data/estabelecimentos/estabelecimentos-420000-202202.csv\")"
   ]
  },
  {
   "cell_type": "code",
   "execution_count": 11,
   "id": "c25bf3de-8c18-4be4-94d6-24b36e14ba44",
   "metadata": {
    "tags": []
   },
   "outputs": [
    {
     "name": "stdout",
     "output_type": "stream",
     "text": [
      "Erro com 89460000\n",
      "Erro com 89560000\n",
      "Erro com 89560000\n",
      "Erro com 89560000\n",
      "Erro com 89010580\n",
      "Erro com 89812758\n",
      "Erro com 88113330\n",
      "Erro com 89012201\n",
      "Erro com 88117907\n",
      "Erro com 89812211\n",
      "Erro com 89560000\n",
      "Erro com 88113330\n",
      "Erro com 88117902\n",
      "Erro com 88807213\n",
      "Erro com 89500993\n",
      "Erro com 89560000\n",
      "Erro com 89560000\n",
      "Erro com 88113330\n",
      "Erro com 88117907\n",
      "Erro com 89560000\n",
      "Erro com 89052902\n",
      "Erro com 89300000\n"
     ]
    }
   ],
   "source": [
    "ST[\"TP_UNID\"] = ST.CNES.apply(lambda x: st_dados.loc[x, \"TP_UNID\"])\n",
    "ST[\"tipo_unidade\"] = ST.TP_UNID.apply(lambda x: tipo_unidade.loc[x,\"tipo_unidade\"])\n",
    "latlong = ST.apply( lambda x: pass_cep(x[\"CEP\"]), axis=1, result_type=\"expand\" )\n",
    "ST[\"lat\"] = latlong.loc[:,0]\n",
    "ST[\"lon\"] = latlong.loc[:,1]\n",
    "ST[\"regiao\"] = ST.IBGE.apply(lambda x: regioes.loc[x,\"REGIAO\"])"
   ]
  },
  {
   "cell_type": "code",
   "execution_count": 12,
   "id": "c74271cf-9d63-48f7-a936-cb55416cadf2",
   "metadata": {},
   "outputs": [],
   "source": [
    "ST.update(geocodes)"
   ]
  },
  {
   "cell_type": "code",
   "execution_count": 18,
   "id": "abed8ce6-f704-4838-938d-282b03150488",
   "metadata": {},
   "outputs": [],
   "source": [
    "ST[~ST.lat.isna()].to_pickle(\"../parsed-data/estabelecimentos.pd.pkl\")"
   ]
  },
  {
   "cell_type": "code",
   "execution_count": 42,
   "id": "f0e5e548-af3c-40cb-8b46-f10bf4d088a9",
   "metadata": {},
   "outputs": [],
   "source": [
    "ST.loc[ST.lat.isna(),[\"lat\",\"lon\"]] = ST[ST.lat.isna()].apply(lambda x: ST.query(f\"IBGE == {x['IBGE']}\")[[\"lat\",\"lon\"]].sample(n=1).values[0], axis=1, result_type=\"expand\")"
   ]
  },
  {
   "cell_type": "code",
   "execution_count": 50,
   "id": "916615ed-23cd-419f-9c22-6fce969c3ba6",
   "metadata": {},
   "outputs": [],
   "source": [
    "def get_lat_lon(idx):\n",
    "    ibge = ST.loc[idx,\"IBGE\"]\n",
    "    sample = ST.query(f\"IBGE == {ibge}\").sample(n=1).copy()\n",
    "    return sample[[\"lat\",\"lon\"]].values[0]\n",
    "\n",
    "for x in ST.loc[ST.lat.isna()].index:\n",
    "    lat, lon = get_lat_lon(x)\n",
    "    ST.loc[x,\"lat\"] = lat\n",
    "    ST.loc[x,\"lon\"] = lon"
   ]
  },
  {
   "cell_type": "code",
   "execution_count": null,
   "id": "b25b7ade",
   "metadata": {},
   "outputs": [],
   "source": []
  }
 ],
 "metadata": {
  "kernelspec": {
   "display_name": "Python 3 (ipykernel)",
   "language": "python",
   "name": "python3"
  },
  "language_info": {
   "codemirror_mode": {
    "name": "ipython",
    "version": 3
   },
   "file_extension": ".py",
   "mimetype": "text/x-python",
   "name": "python",
   "nbconvert_exporter": "python",
   "pygments_lexer": "ipython3",
   "version": "3.8.10"
  }
 },
 "nbformat": 4,
 "nbformat_minor": 5
}

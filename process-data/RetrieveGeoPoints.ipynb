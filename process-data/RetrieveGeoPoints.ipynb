{
 "cells": [
  {
   "cell_type": "code",
   "execution_count": 10,
   "id": "eaee352e-0a99-4380-bd08-314dc222ddd8",
   "metadata": {},
   "outputs": [],
   "source": [
    "import pickle\n",
    "import pandas as pd\n",
    "import numpy as np\n",
    "import unicodedata"
   ]
  },
  {
   "cell_type": "code",
   "execution_count": 5,
   "id": "26e44969-8c74-47be-8202-b83aa3d4f067",
   "metadata": {},
   "outputs": [],
   "source": [
    "with open(\"logradouros.pkl\", \"rb\") as fp:\n",
    "    ADDRESSES = pickle.load(fp)"
   ]
  },
  {
   "cell_type": "code",
   "execution_count": 8,
   "id": "8ba22d73-6dcd-4cb7-b767-6b2777137b48",
   "metadata": {},
   "outputs": [],
   "source": [
    "def remove_accents(input_str):\n",
    "    nfkd_form = unicodedata.normalize('NFKD', input_str)\n",
    "    return u\"\".join([c for c in nfkd_form if not unicodedata.combining(c)])"
   ]
  },
  {
   "cell_type": "code",
   "execution_count": 6,
   "id": "97740e7b-9366-4037-ba0c-18c7233115b7",
   "metadata": {},
   "outputs": [],
   "source": [
    "estabelecimentos = pd.read_csv(\"/home/bossa/Projetos/MapaSaudeSC/data/estabelecimentos-420000-202202.csv\")"
   ]
  },
  {
   "cell_type": "code",
   "execution_count": 19,
   "id": "7c2aaff9-01b5-40e4-9abf-66c423c3b5f1",
   "metadata": {},
   "outputs": [
    {
     "data": {
      "text/plain": [
       "2"
      ]
     },
     "execution_count": 19,
     "metadata": {},
     "output_type": "execute_result"
    }
   ],
   "source": [
    "np.argmax([1,2,5,3,2])"
   ]
  },
  {
   "cell_type": "code",
   "execution_count": 20,
   "id": "ad0ae154-034a-40ab-8341-674a1ded2120",
   "metadata": {},
   "outputs": [],
   "source": [
    "FILTRADO = {}"
   ]
  },
  {
   "cell_type": "code",
   "execution_count": 22,
   "id": "c1b91282-0a9c-456d-aa5d-62a9858d238c",
   "metadata": {},
   "outputs": [],
   "source": [
    "\n",
    "for cnes, registry in ADDRESSES.items():\n",
    "    [bairro, cidade, cep] = estabelecimentos.query(f\"CNES == {cnes}\")[[\"BAIRRO\",\"MUNICIPIO\",\"CEP\"]].values[0] \n",
    "    if len(registry) == 0:\n",
    "        pass\n",
    "    elif len(registry) == 1:\n",
    "        FILTRADO[cnes] = registry[0]\n",
    "    else:\n",
    "        BIGCHECK = []\n",
    "        for x in registry:\n",
    "            displayname = remove_accents(x['display_name']).lower()\n",
    "            cep = str(cep)\n",
    "            cep = cep[:5] + \"-\" +  cep[-3:]\n",
    "            chekings = [bairro.lower() in displayname, cidade.lower() in displayname, cep in displayname, cep[0:5] in displayname, cep[0:8] in displayname]\n",
    "            BIGCHECK.append(sum(chekings))\n",
    "        ii = np.argmax(BIGCHECK)\n",
    "        FILTRADO[cnes] = registry[ii]"
   ]
  },
  {
   "cell_type": "code",
   "execution_count": 24,
   "id": "614aec0f-1b79-4563-ab5f-9f802c3d4d91",
   "metadata": {},
   "outputs": [],
   "source": [
    "LATITUDES = {key: float(val['lat']) for (key, val) in FILTRADO.items()}\n",
    "LONGITUDES = {key: float(val['lon']) for (key, val) in FILTRADO.items()}\n",
    "geocodes = pd.DataFrame({\"lat\": LATITUDES, \"lon\": LONGITUDES})"
   ]
  },
  {
   "cell_type": "code",
   "execution_count": null,
   "id": "3fab0013-22a6-445f-97cf-b899dbc30e5a",
   "metadata": {},
   "outputs": [],
   "source": []
  }
 ],
 "metadata": {
  "kernelspec": {
   "display_name": "Python 3 (ipykernel)",
   "language": "python",
   "name": "python3"
  },
  "language_info": {
   "codemirror_mode": {
    "name": "ipython",
    "version": 3
   },
   "file_extension": ".py",
   "mimetype": "text/x-python",
   "name": "python",
   "nbconvert_exporter": "python",
   "pygments_lexer": "ipython3",
   "version": "3.8.10"
  }
 },
 "nbformat": 4,
 "nbformat_minor": 5
}

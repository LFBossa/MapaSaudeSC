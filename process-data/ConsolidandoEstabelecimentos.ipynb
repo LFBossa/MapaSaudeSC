{
 "cells": [
  {
   "cell_type": "markdown",
   "metadata": {},
   "source": [
    "# Consolidando dados de estabelecimentos"
   ]
  },
  {
   "cell_type": "code",
   "execution_count": 1,
   "metadata": {},
   "outputs": [],
   "source": [
    "import pandas as pd\n",
    "\n"
   ]
  },
  {
   "cell_type": "code",
   "execution_count": 5,
   "metadata": {},
   "outputs": [],
   "source": [
    "tipos = pd.read_csv(\"../data/estabelecimentos/tipo_unidade.csv\")\n",
    "tipos.set_index(\"cod\", inplace=True)"
   ]
  },
  {
   "cell_type": "code",
   "execution_count": 11,
   "metadata": {},
   "outputs": [],
   "source": [
    "ST = pd.read_csv(\"../data/estabelecimentos/STSC202202.csv\", low_memory=False)\n",
    "ST.set_index(\"CNES\", inplace=True)\n"
   ]
  },
  {
   "cell_type": "code",
   "execution_count": 20,
   "metadata": {},
   "outputs": [],
   "source": [
    "\n",
    "tipo_unidade = ST[\"TP_UNID\"]"
   ]
  },
  {
   "cell_type": "code",
   "execution_count": 10,
   "metadata": {},
   "outputs": [],
   "source": [
    "estabelecimentos = pd.read_csv(\"../parsed-data/estabelecimentos-turbinado.csv\")\n",
    "estabelecimentos.set_index(\"cnes\", inplace=True)\n"
   ]
  },
  {
   "cell_type": "code",
   "execution_count": 27,
   "metadata": {},
   "outputs": [],
   "source": [
    "estabelecimentos[\"TP_UNID\"] = estabelecimentos.CNES.apply(lambda x: ST.loc[x,\"TP_UNID\"])"
   ]
  },
  {
   "cell_type": "code",
   "execution_count": 29,
   "metadata": {},
   "outputs": [],
   "source": [
    "estabelecimentos[\"tipo_unidade\"] = estabelecimentos.TP_UNID.apply(lambda x: tipos.loc[x, \"tipo_unidade\"])"
   ]
  },
  {
   "cell_type": "code",
   "execution_count": 33,
   "metadata": {},
   "outputs": [],
   "source": [
    "nomes_municipios = pd.read_csv(\"../parsed-data/populacao.csv\")\n",
    "nomes_municipios.set_index(\"COD_IBGE\",inplace=True)"
   ]
  },
  {
   "cell_type": "code",
   "execution_count": 37,
   "metadata": {},
   "outputs": [],
   "source": [
    "def get_municipio(IBGE):\n",
    "    MUN =  nomes_municipios.loc[IBGE,\"Município\"]\n",
    "    return MUN.replace(\"(SC)\", \"\").strip()\n",
    "\n",
    "estabelecimentos[\"municipio\"] = estabelecimentos.IBGE.apply(get_municipio)"
   ]
  },
  {
   "cell_type": "code",
   "execution_count": 45,
   "metadata": {},
   "outputs": [],
   "source": [
    "for x in (\"NOME FANTASIA\", \"BAIRRO\", \"tipo_unidade\"):\n",
    "    estabelecimentos[x] = estabelecimentos[x].str.title()"
   ]
  },
  {
   "cell_type": "code",
   "execution_count": 41,
   "metadata": {},
   "outputs": [],
   "source": [
    "INTERESSE = [\"CNES\", \"IBGE\", \"municipio\", \"NOME FANTASIA\", \"logradouro\", \"NUMERO\", \"BAIRRO\", \"CEP\", \"TP_UNID\", \"tipo_unidade\", \"lat\", \"lon\" ]"
   ]
  },
  {
   "cell_type": "code",
   "execution_count": 47,
   "metadata": {},
   "outputs": [],
   "source": [
    "estabelecimentos[INTERESSE].to_pickle(\"../parsed-data/estabelecimentos.pd.pkl\")"
   ]
  },
  {
   "cell_type": "code",
   "execution_count": null,
   "metadata": {},
   "outputs": [],
   "source": []
  }
 ],
 "metadata": {
  "interpreter": {
   "hash": "0ccf1929feb97e193410bf3635aad133c4f1364124f24c1ecb4ba91f0a9f0dd1"
  },
  "kernelspec": {
   "display_name": "Python 3.8.10 ('MapaSaudeSC-WJJ64HuV')",
   "language": "python",
   "name": "python3"
  },
  "language_info": {
   "codemirror_mode": {
    "name": "ipython",
    "version": 3
   },
   "file_extension": ".py",
   "mimetype": "text/x-python",
   "name": "python",
   "nbconvert_exporter": "python",
   "pygments_lexer": "ipython3",
   "version": "3.8.10"
  },
  "orig_nbformat": 4
 },
 "nbformat": 4,
 "nbformat_minor": 2
}

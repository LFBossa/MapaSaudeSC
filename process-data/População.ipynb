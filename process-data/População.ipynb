{
 "cells": [
  {
   "cell_type": "code",
   "execution_count": 1,
   "id": "f43ab489-03a7-4621-980b-0205cb4a96e6",
   "metadata": {},
   "outputs": [],
   "source": [
    "import pandas as pd\n",
    "import unicodedata"
   ]
  },
  {
   "cell_type": "code",
   "execution_count": 2,
   "id": "b5c86efb-5164-4359-b2ab-9197bbd7b2c7",
   "metadata": {},
   "outputs": [],
   "source": [
    "def remove_accents(input_str):\n",
    "    nfkd_form = unicodedata.normalize('NFKD', input_str)\n",
    "    return u\"\".join([c for c in nfkd_form if not unicodedata.combining(c)])"
   ]
  },
  {
   "cell_type": "code",
   "execution_count": 3,
   "id": "cb28ff73-5184-4741-98e7-e8907509b3a3",
   "metadata": {},
   "outputs": [],
   "source": [
    "populacao = pd.read_csv(\"../data/populacao/populacao.csv\")"
   ]
  },
  {
   "cell_type": "code",
   "execution_count": 4,
   "id": "e7b6fc16-7fca-4447-9718-24fd3537548d",
   "metadata": {},
   "outputs": [],
   "source": [
    "populacao.Cidade = populacao.Cidade.apply(lambda x: x[:-5])"
   ]
  },
  {
   "cell_type": "code",
   "execution_count": 5,
   "id": "73f46033-4d12-49d8-bfaa-2af228971450",
   "metadata": {},
   "outputs": [],
   "source": [
    "regioes = pd.read_csv(\"../data/geoloc/regioes-saude.csv\")"
   ]
  },
  {
   "cell_type": "code",
   "execution_count": 6,
   "id": "0eefe68f-9332-42ee-b20f-ad1f31f5d627",
   "metadata": {},
   "outputs": [],
   "source": [
    "regioes.municipio = regioes.municipio.apply(lambda x: remove_accents(x).lower().strip())"
   ]
  },
  {
   "cell_type": "code",
   "execution_count": 7,
   "id": "11a0365f-5803-4ea7-9750-2ea273271cc1",
   "metadata": {},
   "outputs": [],
   "source": [
    "regioes.set_index(\"municipio\",inplace=True)"
   ]
  },
  {
   "cell_type": "code",
   "execution_count": 8,
   "id": "44dd5e98-9558-40ee-8c14-c2d391bad28d",
   "metadata": {},
   "outputs": [],
   "source": [
    "def get_ibge_code(cityname): \n",
    "    try:\n",
    "        return regioes.loc[remove_accents(cityname).lower().replace(\"-\", \" \"),\"CODIBGE\"]\n",
    "    except KeyError:\n",
    "        print(f\"Erro com {cityname}\")\n",
    "        return None"
   ]
  },
  {
   "cell_type": "code",
   "execution_count": 9,
   "id": "6ea299cf-df5b-4e7e-9f6a-d2b596f53946",
   "metadata": {},
   "outputs": [],
   "source": [
    "populacao[\"COD_IBGE\"] = populacao.Cidade.apply(lambda x: get_ibge_code(x)) "
   ]
  },
  {
   "cell_type": "code",
   "execution_count": 10,
   "id": "bf7ce465-701d-40f9-8d0c-602809e71934",
   "metadata": {},
   "outputs": [],
   "source": [
    "populacao.set_index(\"COD_IBGE\",inplace=True)"
   ]
  },
  {
   "cell_type": "code",
   "execution_count": 11,
   "id": "a6e200b1-0925-42a2-8cd1-a874fb6b2065",
   "metadata": {},
   "outputs": [],
   "source": [
    "populacao.to_csv(\"../parsed-data/populacao.csv\")"
   ]
  },
  {
   "cell_type": "markdown",
   "id": "fd588451-1392-488f-997d-a2404514d159",
   "metadata": {},
   "source": [
    "Teste"
   ]
  },
  {
   "cell_type": "code",
   "execution_count": 29,
   "id": "501d55cc-1341-4b44-be5a-02414aef9e38",
   "metadata": {},
   "outputs": [],
   "source": [
    "doencas = pd.read_csv(\"../parsed-data/doencas.csv\")"
   ]
  },
  {
   "cell_type": "code",
   "execution_count": 33,
   "id": "4e3276a6-b69d-45e2-9288-d5737d5ead61",
   "metadata": {},
   "outputs": [],
   "source": [
    "def get_incidencia(doenca, ano):\n",
    "    global doencas\n",
    "    serie =  doencas.query(f\"ano == {ano}\").set_index(\"Ibge\")[doenca]\n",
    "    a = serie.div(populacao[f\"{ano}\"])\n",
    "    return pd.DataFrame({\"IBGE\": a.index.values, \"incidência\": a.values})"
   ]
  },
  {
   "cell_type": "code",
   "execution_count": 34,
   "id": "30e5d6af-36db-4f4a-a4fc-59f1b12c94c7",
   "metadata": {},
   "outputs": [
    {
     "data": {
      "text/html": [
       "<div>\n",
       "<style scoped>\n",
       "    .dataframe tbody tr th:only-of-type {\n",
       "        vertical-align: middle;\n",
       "    }\n",
       "\n",
       "    .dataframe tbody tr th {\n",
       "        vertical-align: top;\n",
       "    }\n",
       "\n",
       "    .dataframe thead th {\n",
       "        text-align: right;\n",
       "    }\n",
       "</style>\n",
       "<table border=\"1\" class=\"dataframe\">\n",
       "  <thead>\n",
       "    <tr style=\"text-align: right;\">\n",
       "      <th></th>\n",
       "      <th>IBGE</th>\n",
       "      <th>incidência</th>\n",
       "    </tr>\n",
       "  </thead>\n",
       "  <tbody>\n",
       "    <tr>\n",
       "      <th>0</th>\n",
       "      <td>420005</td>\n",
       "      <td>NaN</td>\n",
       "    </tr>\n",
       "    <tr>\n",
       "      <th>1</th>\n",
       "      <td>420010</td>\n",
       "      <td>NaN</td>\n",
       "    </tr>\n",
       "    <tr>\n",
       "      <th>2</th>\n",
       "      <td>420020</td>\n",
       "      <td>NaN</td>\n",
       "    </tr>\n",
       "    <tr>\n",
       "      <th>3</th>\n",
       "      <td>420030</td>\n",
       "      <td>NaN</td>\n",
       "    </tr>\n",
       "    <tr>\n",
       "      <th>4</th>\n",
       "      <td>420040</td>\n",
       "      <td>NaN</td>\n",
       "    </tr>\n",
       "    <tr>\n",
       "      <th>...</th>\n",
       "      <td>...</td>\n",
       "      <td>...</td>\n",
       "    </tr>\n",
       "    <tr>\n",
       "      <th>290</th>\n",
       "      <td>421950</td>\n",
       "      <td>0.000378</td>\n",
       "    </tr>\n",
       "    <tr>\n",
       "      <th>291</th>\n",
       "      <td>421960</td>\n",
       "      <td>NaN</td>\n",
       "    </tr>\n",
       "    <tr>\n",
       "      <th>292</th>\n",
       "      <td>421970</td>\n",
       "      <td>0.000366</td>\n",
       "    </tr>\n",
       "    <tr>\n",
       "      <th>293</th>\n",
       "      <td>421985</td>\n",
       "      <td>NaN</td>\n",
       "    </tr>\n",
       "    <tr>\n",
       "      <th>294</th>\n",
       "      <td>422000</td>\n",
       "      <td>NaN</td>\n",
       "    </tr>\n",
       "  </tbody>\n",
       "</table>\n",
       "<p>295 rows × 2 columns</p>\n",
       "</div>"
      ],
      "text/plain": [
       "       IBGE  incidência\n",
       "0    420005         NaN\n",
       "1    420010         NaN\n",
       "2    420020         NaN\n",
       "3    420030         NaN\n",
       "4    420040         NaN\n",
       "..      ...         ...\n",
       "290  421950    0.000378\n",
       "291  421960         NaN\n",
       "292  421970    0.000366\n",
       "293  421985         NaN\n",
       "294  422000         NaN\n",
       "\n",
       "[295 rows x 2 columns]"
      ]
     },
     "execution_count": 34,
     "metadata": {},
     "output_type": "execute_result"
    }
   ],
   "source": [
    "get_incidencia(\"Hipertensão\", 2014)"
   ]
  },
  {
   "cell_type": "code",
   "execution_count": 35,
   "id": "d706367e-fd69-4305-9730-db95ea7187d4",
   "metadata": {},
   "outputs": [],
   "source": [
    "populi =  pd.read_csv(\"../parsed-data/populacao.csv\")"
   ]
  },
  {
   "cell_type": "code",
   "execution_count": 38,
   "id": "9c6d9be3-f316-463c-a81e-c44036b09ab1",
   "metadata": {},
   "outputs": [
    {
     "data": {
      "text/html": [
       "<div>\n",
       "<style scoped>\n",
       "    .dataframe tbody tr th:only-of-type {\n",
       "        vertical-align: middle;\n",
       "    }\n",
       "\n",
       "    .dataframe tbody tr th {\n",
       "        vertical-align: top;\n",
       "    }\n",
       "\n",
       "    .dataframe thead th {\n",
       "        text-align: right;\n",
       "    }\n",
       "</style>\n",
       "<table border=\"1\" class=\"dataframe\">\n",
       "  <thead>\n",
       "    <tr style=\"text-align: right;\">\n",
       "      <th></th>\n",
       "      <th>Unnamed: 0</th>\n",
       "      <th>Ibge</th>\n",
       "      <th>Hipertensão</th>\n",
       "      <th>Diabetes</th>\n",
       "      <th>Obesidade</th>\n",
       "      <th>Tabagismo</th>\n",
       "      <th>ano</th>\n",
       "    </tr>\n",
       "  </thead>\n",
       "  <tbody>\n",
       "    <tr>\n",
       "      <th>0</th>\n",
       "      <td>0</td>\n",
       "      <td>420915</td>\n",
       "      <td>87</td>\n",
       "      <td>39</td>\n",
       "      <td>5</td>\n",
       "      <td>1</td>\n",
       "      <td>2014</td>\n",
       "    </tr>\n",
       "    <tr>\n",
       "      <th>1</th>\n",
       "      <td>1</td>\n",
       "      <td>420370</td>\n",
       "      <td>0</td>\n",
       "      <td>1</td>\n",
       "      <td>17</td>\n",
       "      <td>1</td>\n",
       "      <td>2014</td>\n",
       "    </tr>\n",
       "    <tr>\n",
       "      <th>2</th>\n",
       "      <td>2</td>\n",
       "      <td>421550</td>\n",
       "      <td>4</td>\n",
       "      <td>3</td>\n",
       "      <td>2</td>\n",
       "      <td>10</td>\n",
       "      <td>2014</td>\n",
       "    </tr>\n",
       "    <tr>\n",
       "      <th>3</th>\n",
       "      <td>3</td>\n",
       "      <td>420630</td>\n",
       "      <td>15</td>\n",
       "      <td>3</td>\n",
       "      <td>3</td>\n",
       "      <td>0</td>\n",
       "      <td>2014</td>\n",
       "    </tr>\n",
       "    <tr>\n",
       "      <th>4</th>\n",
       "      <td>4</td>\n",
       "      <td>420530</td>\n",
       "      <td>49</td>\n",
       "      <td>18</td>\n",
       "      <td>69</td>\n",
       "      <td>0</td>\n",
       "      <td>2014</td>\n",
       "    </tr>\n",
       "    <tr>\n",
       "      <th>...</th>\n",
       "      <td>...</td>\n",
       "      <td>...</td>\n",
       "      <td>...</td>\n",
       "      <td>...</td>\n",
       "      <td>...</td>\n",
       "      <td>...</td>\n",
       "      <td>...</td>\n",
       "    </tr>\n",
       "    <tr>\n",
       "      <th>1995</th>\n",
       "      <td>290</td>\n",
       "      <td>420757</td>\n",
       "      <td>1622</td>\n",
       "      <td>385</td>\n",
       "      <td>110</td>\n",
       "      <td>4</td>\n",
       "      <td>2021</td>\n",
       "    </tr>\n",
       "    <tr>\n",
       "      <th>1996</th>\n",
       "      <td>291</td>\n",
       "      <td>420980</td>\n",
       "      <td>436</td>\n",
       "      <td>129</td>\n",
       "      <td>19</td>\n",
       "      <td>19</td>\n",
       "      <td>2021</td>\n",
       "    </tr>\n",
       "    <tr>\n",
       "      <th>1997</th>\n",
       "      <td>292</td>\n",
       "      <td>421400</td>\n",
       "      <td>1896</td>\n",
       "      <td>632</td>\n",
       "      <td>334</td>\n",
       "      <td>128</td>\n",
       "      <td>2021</td>\n",
       "    </tr>\n",
       "    <tr>\n",
       "      <th>1998</th>\n",
       "      <td>293</td>\n",
       "      <td>420253</td>\n",
       "      <td>930</td>\n",
       "      <td>159</td>\n",
       "      <td>107</td>\n",
       "      <td>83</td>\n",
       "      <td>2021</td>\n",
       "    </tr>\n",
       "    <tr>\n",
       "      <th>1999</th>\n",
       "      <td>294</td>\n",
       "      <td>421507</td>\n",
       "      <td>855</td>\n",
       "      <td>587</td>\n",
       "      <td>43</td>\n",
       "      <td>10</td>\n",
       "      <td>2021</td>\n",
       "    </tr>\n",
       "  </tbody>\n",
       "</table>\n",
       "<p>2000 rows × 7 columns</p>\n",
       "</div>"
      ],
      "text/plain": [
       "      Unnamed: 0    Ibge  Hipertensão  Diabetes  Obesidade  Tabagismo   ano\n",
       "0              0  420915           87        39          5          1  2014\n",
       "1              1  420370            0         1         17          1  2014\n",
       "2              2  421550            4         3          2         10  2014\n",
       "3              3  420630           15         3          3          0  2014\n",
       "4              4  420530           49        18         69          0  2014\n",
       "...          ...     ...          ...       ...        ...        ...   ...\n",
       "1995         290  420757         1622       385        110          4  2021\n",
       "1996         291  420980          436       129         19         19  2021\n",
       "1997         292  421400         1896       632        334        128  2021\n",
       "1998         293  420253          930       159        107         83  2021\n",
       "1999         294  421507          855       587         43         10  2021\n",
       "\n",
       "[2000 rows x 7 columns]"
      ]
     },
     "execution_count": 38,
     "metadata": {},
     "output_type": "execute_result"
    }
   ],
   "source": [
    "doencas"
   ]
  },
  {
   "cell_type": "code",
   "execution_count": null,
   "id": "304258e0-fee6-4cfc-a26c-d819dbe46e5a",
   "metadata": {},
   "outputs": [],
   "source": []
  }
 ],
 "metadata": {
  "kernelspec": {
   "display_name": "Python 3 (ipykernel)",
   "language": "python",
   "name": "python3"
  },
  "language_info": {
   "codemirror_mode": {
    "name": "ipython",
    "version": 3
   },
   "file_extension": ".py",
   "mimetype": "text/x-python",
   "name": "python",
   "nbconvert_exporter": "python",
   "pygments_lexer": "ipython3",
   "version": "3.8.10"
  }
 },
 "nbformat": 4,
 "nbformat_minor": 5
}

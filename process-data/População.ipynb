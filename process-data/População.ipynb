{
 "cells": [
  {
   "cell_type": "code",
   "execution_count": 1,
   "id": "f43ab489-03a7-4621-980b-0205cb4a96e6",
   "metadata": {},
   "outputs": [],
   "source": [
    "import pandas as pd"
   ]
  },
  {
   "cell_type": "code",
   "execution_count": 17,
   "id": "cb28ff73-5184-4741-98e7-e8907509b3a3",
   "metadata": {},
   "outputs": [],
   "source": [
    "populacao = pd.read_csv(\"../data/populacao/populacao.csv\")"
   ]
  },
  {
   "cell_type": "code",
   "execution_count": 18,
   "id": "ea88a76d",
   "metadata": {},
   "outputs": [],
   "source": [
    "populacao.rename({\"IBGE\": \"COD_IBGE\" }, axis=1, inplace=True)"
   ]
  },
  {
   "cell_type": "code",
   "execution_count": 20,
   "id": "a91c5c77",
   "metadata": {},
   "outputs": [],
   "source": [
    "populacao.COD_IBGE = populacao.COD_IBGE//10"
   ]
  },
  {
   "cell_type": "code",
   "execution_count": 21,
   "id": "bf7ce465-701d-40f9-8d0c-602809e71934",
   "metadata": {},
   "outputs": [],
   "source": [
    "populacao.set_index(\"COD_IBGE\",inplace=True)"
   ]
  },
  {
   "cell_type": "code",
   "execution_count": 22,
   "id": "a6e200b1-0925-42a2-8cd1-a874fb6b2065",
   "metadata": {},
   "outputs": [],
   "source": [
    "populacao.to_csv(\"../parsed-data/populacao.csv\")"
   ]
  },
  {
   "cell_type": "code",
   "execution_count": null,
   "id": "304258e0-fee6-4cfc-a26c-d819dbe46e5a",
   "metadata": {},
   "outputs": [],
   "source": []
  }
 ],
 "metadata": {
  "kernelspec": {
   "display_name": "Python 3 (ipykernel)",
   "language": "python",
   "name": "python3"
  },
  "language_info": {
   "codemirror_mode": {
    "name": "ipython",
    "version": 3
   },
   "file_extension": ".py",
   "mimetype": "text/x-python",
   "name": "python",
   "nbconvert_exporter": "python",
   "pygments_lexer": "ipython3",
   "version": "3.8.10"
  }
 },
 "nbformat": 4,
 "nbformat_minor": 5
}

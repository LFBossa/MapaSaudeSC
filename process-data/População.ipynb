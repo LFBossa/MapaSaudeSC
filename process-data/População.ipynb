{
 "cells": [
  {
   "cell_type": "code",
   "execution_count": 1,
   "id": "f43ab489-03a7-4621-980b-0205cb4a96e6",
   "metadata": {},
   "outputs": [],
   "source": [
    "import pandas as pd\n",
    "import unicodedata"
   ]
  },
  {
   "cell_type": "code",
   "execution_count": 2,
   "id": "b5c86efb-5164-4359-b2ab-9197bbd7b2c7",
   "metadata": {},
   "outputs": [],
   "source": [
    "def remove_accents(input_str):\n",
    "    nfkd_form = unicodedata.normalize('NFKD', input_str)\n",
    "    return u\"\".join([c for c in nfkd_form if not unicodedata.combining(c)])"
   ]
  },
  {
   "cell_type": "code",
   "execution_count": 3,
   "id": "cb28ff73-5184-4741-98e7-e8907509b3a3",
   "metadata": {},
   "outputs": [],
   "source": [
    "populacao = pd.read_csv(\"../data/populacao/populacao.csv\")"
   ]
  },
  {
   "cell_type": "code",
   "execution_count": 4,
   "id": "e7b6fc16-7fca-4447-9718-24fd3537548d",
   "metadata": {},
   "outputs": [],
   "source": [
    "populacao.Cidade = populacao.Cidade.apply(lambda x: x[:-5])"
   ]
  },
  {
   "cell_type": "code",
   "execution_count": 5,
   "id": "73f46033-4d12-49d8-bfaa-2af228971450",
   "metadata": {},
   "outputs": [],
   "source": [
    "regioes = pd.read_csv(\"../data/geoloc/regioes-saude.csv\")"
   ]
  },
  {
   "cell_type": "code",
   "execution_count": 6,
   "id": "0eefe68f-9332-42ee-b20f-ad1f31f5d627",
   "metadata": {},
   "outputs": [],
   "source": [
    "regioes.municipio = regioes.municipio.apply(lambda x: remove_accents(x).lower().strip())"
   ]
  },
  {
   "cell_type": "code",
   "execution_count": 7,
   "id": "11a0365f-5803-4ea7-9750-2ea273271cc1",
   "metadata": {},
   "outputs": [],
   "source": [
    "regioes.set_index(\"municipio\",inplace=True)"
   ]
  },
  {
   "cell_type": "code",
   "execution_count": 8,
   "id": "44dd5e98-9558-40ee-8c14-c2d391bad28d",
   "metadata": {},
   "outputs": [],
   "source": [
    "def get_ibge_code(cityname): \n",
    "    try:\n",
    "        return regioes.loc[remove_accents(cityname).lower().replace(\"-\", \" \"),\"CODIBGE\"]\n",
    "    except KeyError:\n",
    "        print(f\"Erro com {cityname}\")\n",
    "        return None"
   ]
  },
  {
   "cell_type": "code",
   "execution_count": 9,
   "id": "6ea299cf-df5b-4e7e-9f6a-d2b596f53946",
   "metadata": {},
   "outputs": [],
   "source": [
    "populacao[\"COD_IBGE\"] = populacao.Cidade.apply(lambda x: get_ibge_code(x)) "
   ]
  },
  {
   "cell_type": "code",
   "execution_count": 13,
   "id": "bf7ce465-701d-40f9-8d0c-602809e71934",
   "metadata": {},
   "outputs": [],
   "source": [
    "populacao.set_index(\"COD_IBGE\",inplace=True)"
   ]
  },
  {
   "cell_type": "code",
   "execution_count": 14,
   "id": "a6e200b1-0925-42a2-8cd1-a874fb6b2065",
   "metadata": {},
   "outputs": [],
   "source": [
    "populacao.to_csv(\"../parsed-data/populacao.csv\")"
   ]
  },
  {
   "cell_type": "markdown",
   "id": "fd588451-1392-488f-997d-a2404514d159",
   "metadata": {},
   "source": [
    "Teste"
   ]
  },
  {
   "cell_type": "code",
   "execution_count": 17,
   "id": "a1f0b88e-b264-4848-962a-b860a4e0cbee",
   "metadata": {},
   "outputs": [],
   "source": [
    "doenca = pd.read_csv( \"../parsed-data/doencas.csv\")"
   ]
  },
  {
   "cell_type": "code",
   "execution_count": 39,
   "id": "30e5d6af-36db-4f4a-a4fc-59f1b12c94c7",
   "metadata": {},
   "outputs": [],
   "source": [
    "serie =  doenca.query(\"ano == 2020\").set_index(\"Ibge\")[\"Hipertensão\"]"
   ]
  },
  {
   "cell_type": "code",
   "execution_count": 49,
   "id": "d706367e-fd69-4305-9730-db95ea7187d4",
   "metadata": {},
   "outputs": [],
   "source": [
    "a = serie.div(populacao[\"2020\"])"
   ]
  },
  {
   "cell_type": "code",
   "execution_count": 52,
   "id": "9c6d9be3-f316-463c-a81e-c44036b09ab1",
   "metadata": {},
   "outputs": [
    {
     "data": {
      "text/html": [
       "<div>\n",
       "<style scoped>\n",
       "    .dataframe tbody tr th:only-of-type {\n",
       "        vertical-align: middle;\n",
       "    }\n",
       "\n",
       "    .dataframe tbody tr th {\n",
       "        vertical-align: top;\n",
       "    }\n",
       "\n",
       "    .dataframe thead th {\n",
       "        text-align: right;\n",
       "    }\n",
       "</style>\n",
       "<table border=\"1\" class=\"dataframe\">\n",
       "  <thead>\n",
       "    <tr style=\"text-align: right;\">\n",
       "      <th></th>\n",
       "      <th>IBGE</th>\n",
       "      <th>indeice</th>\n",
       "    </tr>\n",
       "  </thead>\n",
       "  <tbody>\n",
       "    <tr>\n",
       "      <th>0</th>\n",
       "      <td>420005</td>\n",
       "      <td>0.239403</td>\n",
       "    </tr>\n",
       "    <tr>\n",
       "      <th>1</th>\n",
       "      <td>420010</td>\n",
       "      <td>0.041314</td>\n",
       "    </tr>\n",
       "    <tr>\n",
       "      <th>2</th>\n",
       "      <td>420020</td>\n",
       "      <td>0.349859</td>\n",
       "    </tr>\n",
       "    <tr>\n",
       "      <th>3</th>\n",
       "      <td>420030</td>\n",
       "      <td>0.174079</td>\n",
       "    </tr>\n",
       "    <tr>\n",
       "      <th>4</th>\n",
       "      <td>420040</td>\n",
       "      <td>0.039569</td>\n",
       "    </tr>\n",
       "    <tr>\n",
       "      <th>...</th>\n",
       "      <td>...</td>\n",
       "      <td>...</td>\n",
       "    </tr>\n",
       "    <tr>\n",
       "      <th>290</th>\n",
       "      <td>421950</td>\n",
       "      <td>0.073719</td>\n",
       "    </tr>\n",
       "    <tr>\n",
       "      <th>291</th>\n",
       "      <td>421960</td>\n",
       "      <td>0.411222</td>\n",
       "    </tr>\n",
       "    <tr>\n",
       "      <th>292</th>\n",
       "      <td>421970</td>\n",
       "      <td>0.079426</td>\n",
       "    </tr>\n",
       "    <tr>\n",
       "      <th>293</th>\n",
       "      <td>421985</td>\n",
       "      <td>0.039141</td>\n",
       "    </tr>\n",
       "    <tr>\n",
       "      <th>294</th>\n",
       "      <td>422000</td>\n",
       "      <td>0.088522</td>\n",
       "    </tr>\n",
       "  </tbody>\n",
       "</table>\n",
       "<p>295 rows × 2 columns</p>\n",
       "</div>"
      ],
      "text/plain": [
       "       IBGE   indeice\n",
       "0    420005  0.239403\n",
       "1    420010  0.041314\n",
       "2    420020  0.349859\n",
       "3    420030  0.174079\n",
       "4    420040  0.039569\n",
       "..      ...       ...\n",
       "290  421950  0.073719\n",
       "291  421960  0.411222\n",
       "292  421970  0.079426\n",
       "293  421985  0.039141\n",
       "294  422000  0.088522\n",
       "\n",
       "[295 rows x 2 columns]"
      ]
     },
     "execution_count": 52,
     "metadata": {},
     "output_type": "execute_result"
    }
   ],
   "source": [
    "pd.DataFrame({\"IBGE\": a.index.values, \"indeice\": a.values})"
   ]
  },
  {
   "cell_type": "code",
   "execution_count": null,
   "id": "304258e0-fee6-4cfc-a26c-d819dbe46e5a",
   "metadata": {},
   "outputs": [],
   "source": []
  }
 ],
 "metadata": {
  "kernelspec": {
   "display_name": "Python 3 (ipykernel)",
   "language": "python",
   "name": "python3"
  },
  "language_info": {
   "codemirror_mode": {
    "name": "ipython",
    "version": 3
   },
   "file_extension": ".py",
   "mimetype": "text/x-python",
   "name": "python",
   "nbconvert_exporter": "python",
   "pygments_lexer": "ipython3",
   "version": "3.8.10"
  }
 },
 "nbformat": 4,
 "nbformat_minor": 5
}

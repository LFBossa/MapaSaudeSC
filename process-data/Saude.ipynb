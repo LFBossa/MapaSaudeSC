{
 "cells": [
  {
   "cell_type": "code",
   "execution_count": 16,
   "id": "c44104df-4dab-4659-9d99-5f739d7d925f",
   "metadata": {},
   "outputs": [],
   "source": [
    "import pandas as pd\n",
    "from io import StringIO"
   ]
  },
  {
   "cell_type": "code",
   "execution_count": 21,
   "id": "c3dcdd19-d6ae-4993-8538-52157552b96b",
   "metadata": {},
   "outputs": [],
   "source": [
    "CSV_VALUES = {}\n",
    "\n",
    "\n",
    "for ano in range(2014,2022):\n",
    "    with open(f\"../data/saude/sisab{ano}.txt\") as fp:\n",
    "        conteudo = fp.read()\n",
    "    linhas = [x for x in conteudo.split(\"\\n\") if \"SC;\" in x or \"Uf;\" in x ]\n",
    "    CSV_VALUES[ano] = \"\\n\".join(linhas)"
   ]
  },
  {
   "cell_type": "code",
   "execution_count": 53,
   "id": "ff546725-804e-45d7-85fe-712250988fc3",
   "metadata": {
    "tags": []
   },
   "outputs": [],
   "source": [
    "DATAFRAMES = {}\n",
    "for ano in range(2014,2022): \n",
    "    df = pd.read_csv(StringIO(CSV_VALUES[ano]),sep=\";\",thousands=\".\")\n",
    "    df.drop(columns=[\"Uf\",\"Municipio\",\"Unnamed: 7\"],inplace=True)\n",
    "    df.rename(columns={\"Hipertensão arterial\": \"Hipertensão\"},inplace=True)\n",
    "    df[\"ano\"] = ano\n",
    "    DATAFRAMES[ano] = df.copy()\n"
   ]
  },
  {
   "cell_type": "code",
   "execution_count": 55,
   "id": "ea883a06-bab2-4018-8244-a9d0ff8ba4ce",
   "metadata": {},
   "outputs": [],
   "source": [
    "doenças = pd.concat(*[DATAFRAMES.values()])"
   ]
  },
  {
   "cell_type": "code",
   "execution_count": 56,
   "id": "294ec99f-9384-4933-b7af-47867f7dc923",
   "metadata": {},
   "outputs": [],
   "source": [
    "doenças.to_csv(\"../parsed-data/doencas.csv\")"
   ]
  },
  {
   "cell_type": "code",
   "execution_count": null,
   "id": "be7adc58-fecc-430e-8ea5-232ab62afc6a",
   "metadata": {},
   "outputs": [],
   "source": []
  }
 ],
 "metadata": {
  "kernelspec": {
   "display_name": "Python 3 (ipykernel)",
   "language": "python",
   "name": "python3"
  },
  "language_info": {
   "codemirror_mode": {
    "name": "ipython",
    "version": 3
   },
   "file_extension": ".py",
   "mimetype": "text/x-python",
   "name": "python",
   "nbconvert_exporter": "python",
   "pygments_lexer": "ipython3",
   "version": "3.8.10"
  }
 },
 "nbformat": 4,
 "nbformat_minor": 5
}

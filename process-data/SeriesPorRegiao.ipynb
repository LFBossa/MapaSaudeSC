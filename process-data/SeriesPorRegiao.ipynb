{
 "cells": [
  {
   "cell_type": "code",
   "execution_count": 1,
   "id": "8b78f270-6cc9-4b8d-929f-bea59d09935c",
   "metadata": {},
   "outputs": [],
   "source": [
    "import pandas as pd\n",
    "import numpy as np\n",
    "from matplotlib import pyplot as plt\n",
    "from datetime import datetime as dt\n",
    "import matplotlib.dates as mdates\n"
   ]
  },
  {
   "cell_type": "code",
   "execution_count": 2,
   "id": "caadfa0e-54d7-4c9d-afb3-c48d937290cd",
   "metadata": {},
   "outputs": [],
   "source": [
    "doenças = pd.read_csv(\"../parsed-data/saude-series.csv\")"
   ]
  },
  {
   "cell_type": "code",
   "execution_count": 3,
   "id": "da692bd3-3adc-4aaa-b428-889572ba7c97",
   "metadata": {},
   "outputs": [],
   "source": [
    "população = pd.read_csv(\"../parsed-data/populacao.csv\")\n"
   ]
  },
  {
   "cell_type": "code",
   "execution_count": 4,
   "id": "21f4d979-99d2-4bfa-8f8d-5701d5d9df96",
   "metadata": {},
   "outputs": [],
   "source": [
    "regioes = pd.read_csv(\"../data/geoloc/regioes-saude.csv\", dtype={\"REGIAO\": \"category\",\"municipio\": \"str\"})"
   ]
  },
  {
   "cell_type": "code",
   "execution_count": 5,
   "id": "b1d80110-53cb-4bbd-aebb-e5753eee9510",
   "metadata": {},
   "outputs": [],
   "source": [
    "IBGES_por_regiao = { x: regioes.query(f\"REGIAO == '{x}'\")[\"CODIBGE\"].values for x in regioes.REGIAO.unique() }"
   ]
  },
  {
   "cell_type": "code",
   "execution_count": 6,
   "id": "997aec0d-173a-4904-8ef5-481c068e1fde",
   "metadata": {},
   "outputs": [],
   "source": [
    "regioes.set_index(\"CODIBGE\", inplace=True)"
   ]
  },
  {
   "cell_type": "code",
   "execution_count": 7,
   "id": "12d96d69-5c0f-41b8-b4db-e4059eedfd8c",
   "metadata": {},
   "outputs": [],
   "source": [
    "população[\"região\"] = população.COD_IBGE.apply(lambda x: regioes.loc[x,\"REGIAO\"])"
   ]
  },
  {
   "cell_type": "code",
   "execution_count": 8,
   "id": "5e36646e-c6dd-42c2-a4dc-e5a54c9fa0fa",
   "metadata": {},
   "outputs": [],
   "source": [
    "população.set_index(\"COD_IBGE\", inplace=True)"
   ]
  },
  {
   "cell_type": "code",
   "execution_count": 9,
   "id": "8049343e-e1ca-4f58-ae41-f904863f4da4",
   "metadata": {},
   "outputs": [],
   "source": [
    "def get_pop(ibge, year):\n",
    "    if year == 2022:\n",
    "        year -= 1\n",
    "    elif year == 2013:\n",
    "        year += 1\n",
    "    return população.loc[ibge,str(year)]\n",
    "\n",
    "def get_pop_df(row):\n",
    "    return get_pop(row[\"Ibge\"],row[\"ano\"])"
   ]
  },
  {
   "cell_type": "code",
   "execution_count": 10,
   "id": "cc36e3fd-e07b-421e-baea-0c3c4f1082ee",
   "metadata": {},
   "outputs": [],
   "source": [
    "doenças[\"população\"] = doenças.apply(get_pop_df, axis=1)"
   ]
  },
  {
   "cell_type": "code",
   "execution_count": 11,
   "id": "bfbd11d4-f498-4a39-84a9-c397c7d802d5",
   "metadata": {},
   "outputs": [],
   "source": [
    "população_das_regiões = população.groupby(\"região\").sum()"
   ]
  },
  {
   "cell_type": "code",
   "execution_count": 12,
   "id": "b200955e-9b66-4c4a-b348-9a25bad8f03b",
   "metadata": {},
   "outputs": [],
   "source": [
    "doenças[\"região\"] = doenças.Ibge.apply(lambda x: regioes.loc[x,\"REGIAO\"])"
   ]
  },
  {
   "cell_type": "code",
   "execution_count": 13,
   "id": "c1744673-8d97-477e-aced-9dbe2476299c",
   "metadata": {},
   "outputs": [],
   "source": [
    "def pop_regiao(regiao, year):\n",
    "    if year == 2022:\n",
    "        year -= 1\n",
    "    elif year == 2013:\n",
    "        year += 1 \n",
    "    return população_das_regiões.loc[regiao, str(year)]"
   ]
  },
  {
   "cell_type": "code",
   "execution_count": 14,
   "id": "9c191a75-88e0-4688-b551-37f0026e941c",
   "metadata": {},
   "outputs": [],
   "source": [
    "def get_taxas(doença, regiao):\n",
    "    subdf = doenças.drop(columns=\"Ibge\").groupby([\"região\", \"referencia\"]).sum().loc[(regiao,),:].reset_index()\n",
    "    pd.pivot_table(doenças[[\"referencia\", \"região\", \"Asma\"]], index=\"referencia\", columns=\"região\", aggfunc=sum)[[(\"Asma\",\"Carbonífera\")]].plot()\n",
    "    return subdf"
   ]
  },
  {
   "cell_type": "markdown",
   "id": "48fa0660-e537-4b0b-88d4-6785a83c47e8",
   "metadata": {},
   "source": [
    "Análise"
   ]
  },
  {
   "cell_type": "code",
   "execution_count": 15,
   "id": "47b83324-0084-454c-a98d-495d915f72ea",
   "metadata": {},
   "outputs": [],
   "source": [
    "from ipywidgets import Dropdown, Combobox"
   ]
  },
  {
   "cell_type": "code",
   "execution_count": 16,
   "id": "94880f12-2b10-49ed-b093-1daea04070b6",
   "metadata": {},
   "outputs": [
    {
     "data": {
      "application/vnd.jupyter.widget-view+json": {
       "model_id": "a5a9b1a3d3ca4d5a826cf8e835ba9496",
       "version_major": 2,
       "version_minor": 0
      },
      "text/plain": [
       "Dropdown(description='Região', options=('Meio Oeste', 'Xanxerê', 'Alto Vale do Itajaí', 'Oeste', 'Grande Flori…"
      ]
     },
     "metadata": {},
     "output_type": "display_data"
    }
   ],
   "source": [
    "regi_select = Dropdown(options=regioes.REGIAO.unique(),description=\"Região\")\n",
    "regi_select"
   ]
  },
  {
   "cell_type": "code",
   "execution_count": 17,
   "id": "1e047887-bfbb-4e82-8a8a-786fa4dc1ae9",
   "metadata": {},
   "outputs": [
    {
     "data": {
      "application/vnd.jupyter.widget-view+json": {
       "model_id": "3bf43b11e9e2430db07eb53b1956e896",
       "version_major": 2,
       "version_minor": 0
      },
      "text/plain": [
       "Dropdown(description='Doença', options=('Asma', 'Diabetes', 'DPOC', 'Hipertensão arterial', 'Obesidade', 'Taba…"
      ]
     },
     "metadata": {},
     "output_type": "display_data"
    }
   ],
   "source": [
    "doenca_select = Dropdown(options=doenças.columns[1:13], name=\"Doença\", description=\"Doença\")\n",
    "doenca_select"
   ]
  },
  {
   "cell_type": "code",
   "execution_count": 18,
   "id": "4864a507-7c0a-4b82-a06b-0ee0a9d9f806",
   "metadata": {},
   "outputs": [
    {
     "ename": "NameError",
     "evalue": "name 'cidade_select' is not defined",
     "output_type": "error",
     "traceback": [
      "\u001b[0;31m---------------------------------------------------------------------------\u001b[0m",
      "\u001b[0;31mNameError\u001b[0m                                 Traceback (most recent call last)",
      "\u001b[1;32m/home/bossa/Projetos/MapaSaudeSC/process-data/SeriesPorRegiao.ipynb Cell 19'\u001b[0m in \u001b[0;36m<cell line: 1>\u001b[0;34m()\u001b[0m\n\u001b[0;32m----> <a href='vscode-notebook-cell:/home/bossa/Projetos/MapaSaudeSC/process-data/SeriesPorRegiao.ipynb#ch0000018?line=0'>1</a>\u001b[0m cidade_select\u001b[39m.\u001b[39mvalue\u001b[39m.\u001b[39msplit(\u001b[39m\"\u001b[39m\u001b[39m-\u001b[39m\u001b[39m\"\u001b[39m)[\u001b[39m1\u001b[39m]\u001b[39m.\u001b[39mstrip()\u001b[39m.\u001b[39mstrip(\u001b[39m\"\u001b[39m\u001b[39m)\u001b[39m\u001b[39m\"\u001b[39m)\u001b[39m.\u001b[39mstrip(\u001b[39m\"\u001b[39m\u001b[39m(\u001b[39m\u001b[39m\"\u001b[39m)\n",
      "\u001b[0;31mNameError\u001b[0m: name 'cidade_select' is not defined"
     ]
    }
   ],
   "source": [
    "cidade_select.value.split(\"-\")[1].strip().strip(\")\").strip(\"(\")"
   ]
  },
  {
   "cell_type": "code",
   "execution_count": 19,
   "id": "21941cd6-6151-4298-a49a-57a8da3982fa",
   "metadata": {},
   "outputs": [],
   "source": [
    "\n",
    "rr = regi_select.value\n",
    "dd = doenca_select.value\n",
    "sss = pd.pivot_table(doenças[[\"referencia\", \"região\", dd]], index=\"referencia\", columns=\"região\", aggfunc=sum)[(dd,rr)]\n",
    "\n",
    "popr = [pop_regiao(rr,ano) for ano in (sss.index.values //100)]"
   ]
  },
  {
   "cell_type": "code",
   "execution_count": 20,
   "id": "4a7e725e-280c-4e7e-a8ba-51ba389c1030",
   "metadata": {},
   "outputs": [
    {
     "data": {
      "text/plain": [
       "<AxesSubplot:>"
      ]
     },
     "execution_count": 20,
     "metadata": {},
     "output_type": "execute_result"
    },
    {
     "data": {
      "image/png": "[encoded data removed]",
      "text/plain": [
       "<Figure size 432x288 with 1 Axes>"
      ]
     },
     "metadata": {
      "needs_background": "light"
     },
     "output_type": "display_data"
    }
   ],
   "source": [
    "(sss/popr*1000).reset_index()[(dd,rr)].plot()"
   ]
  },
  {
   "cell_type": "code",
   "execution_count": 21,
   "id": "2dfc26b2-6fdf-4683-a122-f34018fba4dd",
   "metadata": {},
   "outputs": [
    {
     "data": {
      "application/vnd.jupyter.widget-view+json": {
       "model_id": "bfb6fa14957c4cb6a5249351c41ed6d5",
       "version_major": 2,
       "version_minor": 0
      },
      "text/plain": [
       "Combobox(value='', description='Cidade:', ensure_option=True, options=('Abdon Batista - (420005)', 'Abelardo L…"
      ]
     },
     "metadata": {},
     "output_type": "display_data"
    }
   ],
   "source": [
    "cidades_ = [x.municipio.title() + f\" - ({i})\" for (i,x) in regioes.iterrows()]\n",
    "cidade_select = Combobox(\n",
    "    placeholder='Escolha a cidade',\n",
    "    options=cidades_,\n",
    "    description='Cidade:',\n",
    "    ensure_option=True,\n",
    "    disabled=False\n",
    ")\n",
    "cidade_select"
   ]
  },
  {
   "cell_type": "code",
   "execution_count": 23,
   "id": "dc3bd704-a7cf-41af-b521-485942e412c0",
   "metadata": {},
   "outputs": [
    {
     "data": {
      "image/png": "[encoded data removed]",
      "text/plain": [
       "<Figure size 1152x648 with 1 Axes>"
      ]
     },
     "metadata": {
      "needs_background": "light"
     },
     "output_type": "display_data"
    }
   ],
   "source": [
    "cdd = cidade_select.value\n",
    "codibge = cidade_select.value.split(\"-\")[1].strip().strip(\")\").strip(\"(\")\n",
    "rrr = regioes.loc[int(codibge),\"REGIAO\"]\n",
    "dd = doenca_select.value\n",
    "sss = pd.pivot_table(doenças[[\"referencia\", \"região\", dd]], index=\"referencia\", columns=\"região\", aggfunc=sum)[(dd,rrr)]\n",
    "popr = [pop_regiao(rrr,ano) for ano in (sss.index.values //100)]\n",
    "\n",
    "nn = doenças.query(f\"Ibge == {codibge}\").set_index(\"referencia\")[dd]\n",
    "pp = doenças.query(f\"Ibge == {codibge}\").set_index(\"referencia\")[\"população\"]\n",
    "\n",
    "fig, ax = plt.subplots(figsize=(16,9)) \n",
    "dadddos = pd.concat([nn/pp*1000, sss/popr*1000], axis=1 ).sort_index().reset_index()\n",
    "datas = [ dt.strptime(str(x),\"%Y%m\") for x in dadddos[\"referencia\"].values]\n",
    "dadddos[\"referencia\"] = datas\n",
    "dadddos.set_index(\"referencia\",inplace=True)\n",
    "dadddos.columns = [cidade_select.value.split(\"-\")[0], rrr]\n",
    "dadddos.plot(ax=ax)\n",
    "ax.set_title(f\"Índice de {dd} para cada mil habitantes\")\n",
    "plt.show()"
   ]
  },
  {
   "cell_type": "code",
   "execution_count": null,
   "id": "75ed3756-78f1-47a2-8db1-30c031cc85e0",
   "metadata": {},
   "outputs": [],
   "source": [
    "mdf = pd.concat([nn/pp*1000, sss/popr*1000], axis=1 ).sort_index().reset_index()"
   ]
  },
  {
   "cell_type": "code",
   "execution_count": 65,
   "id": "13c41df5-f653-40ca-a981-b560601c4afa",
   "metadata": {},
   "outputs": [
    {
     "data": {
      "text/html": [
       "\n",
       "    <div class=\"bk-root\">\n",
       "        <a href=\"https://bokeh.org\" target=\"_blank\" class=\"bk-logo bk-logo-small bk-logo-notebook\"></a>\n",
       "        <span id=\"3315\">Loading BokehJS ...</span>\n",
       "    </div>"
      ]
     },
     "metadata": {},
     "output_type": "display_data"
    },
    {
     "data": {
      "application/javascript": "\n(function(root) {\n  function now() {\n    return new Date();\n  }\n\n  const force = true;\n\n  if (typeof root._bokeh_onload_callbacks === \"undefined\" || force === true) {\n    root._bokeh_onload_callbacks = [];\n    root._bokeh_is_loading = undefined;\n  }\n\n  const JS_MIME_TYPE = 'application/javascript';\n  const HTML_MIME_TYPE = 'text/html';\n  const EXEC_MIME_TYPE = 'application/vnd.bokehjs_exec.v0+json';\n  const CLASS_NAME = 'output_bokeh rendered_html';\n\n  /**\n   * Render data to the DOM node\n   */\n  function render(props, node) {\n    const script = document.createElement(\"script\");\n    node.appendChild(script);\n  }\n\n  /**\n   * Handle when an output is cleared or removed\n   */\n  function handleClearOutput(event, handle) {\n    const cell = handle.cell;\n\n    const id = cell.output_area._bokeh_element_id;\n    const server_id = cell.output_area._bokeh_server_id;\n    // Clean up Bokeh references\n    if (id != null && id in Bokeh.index) {\n      Bokeh.index[id].model.document.clear();\n      delete Bokeh.index[id];\n    }\n\n    if (server_id !== undefined) {\n      // Clean up Bokeh references\n      const cmd_clean = \"from bokeh.io.state import curstate; print(curstate().uuid_to_server['\" + server_id + \"'].get_sessions()[0].document.roots[0]._id)\";\n      cell.notebook.kernel.execute(cmd_clean, {\n        iopub: {\n          output: function(msg) {\n            const id = msg.content.text.trim();\n            if (id in Bokeh.index) {\n              Bokeh.index[id].model.document.clear();\n              delete Bokeh.index[id];\n            }\n          }\n        }\n      });\n      // Destroy server and session\n      const cmd_destroy = \"import bokeh.io.notebook as ion; ion.destroy_server('\" + server_id + \"')\";\n      cell.notebook.kernel.execute(cmd_destroy);\n    }\n  }\n\n  /**\n   * Handle when a new output is added\n   */\n  function handleAddOutput(event, handle) {\n    const output_area = handle.output_area;\n    const output = handle.output;\n\n    // limit handleAddOutput to display_data with EXEC_MIME_TYPE content only\n    if ((output.output_type != \"display_data\") || (!Object.prototype.hasOwnProperty.call(output.data, EXEC_MIME_TYPE))) {\n      return\n    }\n\n    const toinsert = output_area.element.find(\".\" + CLASS_NAME.split(' ')[0]);\n\n    if (output.metadata[EXEC_MIME_TYPE][\"id\"] !== undefined) {\n      toinsert[toinsert.length - 1].firstChild.textContent = output.data[JS_MIME_TYPE];\n      // store reference to embed id on output_area\n      output_area._bokeh_element_id = output.metadata[EXEC_MIME_TYPE][\"id\"];\n    }\n    if (output.metadata[EXEC_MIME_TYPE][\"server_id\"] !== undefined) {\n      const bk_div = document.createElement(\"div\");\n      bk_div.innerHTML = output.data[HTML_MIME_TYPE];\n      const script_attrs = bk_div.children[0].attributes;\n      for (let i = 0; i < script_attrs.length; i++) {\n        toinsert[toinsert.length - 1].firstChild.setAttribute(script_attrs[i].name, script_attrs[i].value);\n        toinsert[toinsert.length - 1].firstChild.textContent = bk_div.children[0].textContent\n      }\n      // store reference to server id on output_area\n      output_area._bokeh_server_id = output.metadata[EXEC_MIME_TYPE][\"server_id\"];\n    }\n  }\n\n  function register_renderer(events, OutputArea) {\n\n    function append_mime(data, metadata, element) {\n      // create a DOM node to render to\n      const toinsert = this.create_output_subarea(\n        metadata,\n        CLASS_NAME,\n        EXEC_MIME_TYPE\n      );\n      this.keyboard_manager.register_events(toinsert);\n      // Render to node\n      const props = {data: data, metadata: metadata[EXEC_MIME_TYPE]};\n      render(props, toinsert[toinsert.length - 1]);\n      element.append(toinsert);\n      return toinsert\n    }\n\n    /* Handle when an output is cleared or removed */\n    events.on('clear_output.CodeCell', handleClearOutput);\n    events.on('delete.Cell', handleClearOutput);\n\n    /* Handle when a new output is added */\n    events.on('output_added.OutputArea', handleAddOutput);\n\n    /**\n     * Register the mime type and append_mime function with output_area\n     */\n    OutputArea.prototype.register_mime_type(EXEC_MIME_TYPE, append_mime, {\n      /* Is output safe? */\n      safe: true,\n      /* Index of renderer in `output_area.display_order` */\n      index: 0\n    });\n  }\n\n  // register the mime type if in Jupyter Notebook environment and previously unregistered\n  if (root.Jupyter !== undefined) {\n    const events = require('base/js/events');\n    const OutputArea = require('notebook/js/outputarea').OutputArea;\n\n    if (OutputArea.prototype.mime_types().indexOf(EXEC_MIME_TYPE) == -1) {\n      register_renderer(events, OutputArea);\n    }\n  }\n\n  \n  if (typeof (root._bokeh_timeout) === \"undefined\" || force === true) {\n    root._bokeh_timeout = Date.now() + 5000;\n    root._bokeh_failed_load = false;\n  }\n\n  const NB_LOAD_WARNING = {'data': {'text/html':\n     \"<div style='background-color: #fdd'>\\n\"+\n     \"<p>\\n\"+\n     \"BokehJS does not appear to have successfully loaded. If loading BokehJS from CDN, this \\n\"+\n     \"may be due to a slow or bad network connection. Possible fixes:\\n\"+\n     \"</p>\\n\"+\n     \"<ul>\\n\"+\n     \"<li>re-rerun `output_notebook()` to attempt to load from CDN again, or</li>\\n\"+\n     \"<li>use INLINE resources instead, as so:</li>\\n\"+\n     \"</ul>\\n\"+\n     \"<code>\\n\"+\n     \"from bokeh.resources import INLINE\\n\"+\n     \"output_notebook(resources=INLINE)\\n\"+\n     \"</code>\\n\"+\n     \"</div>\"}};\n\n  function display_loaded() {\n    const el = document.getElementById(\"3315\");\n    if (el != null) {\n      el.textContent = \"BokehJS is loading...\";\n    }\n    if (root.Bokeh !== undefined) {\n      if (el != null) {\n        el.textContent = \"BokehJS \" + root.Bokeh.version + \" successfully loaded.\";\n      }\n    } else if (Date.now() < root._bokeh_timeout) {\n      setTimeout(display_loaded, 100)\n    }\n  }\n\n\n  function run_callbacks() {\n    try {\n      root._bokeh_onload_callbacks.forEach(function(callback) {\n        if (callback != null)\n          callback();\n      });\n    } finally {\n      delete root._bokeh_onload_callbacks\n    }\n    console.debug(\"Bokeh: all callbacks have finished\");\n  }\n\n  function load_libs(css_urls, js_urls, callback) {\n    if (css_urls == null) css_urls = [];\n    if (js_urls == null) js_urls = [];\n\n    root._bokeh_onload_callbacks.push(callback);\n    if (root._bokeh_is_loading > 0) {\n      console.debug(\"Bokeh: BokehJS is being loaded, scheduling callback at\", now());\n      return null;\n    }\n    if (js_urls == null || js_urls.length === 0) {\n      run_callbacks();\n      return null;\n    }\n    console.debug(\"Bokeh: BokehJS not loaded, scheduling load and callback at\", now());\n    root._bokeh_is_loading = css_urls.length + js_urls.length;\n\n    function on_load() {\n      root._bokeh_is_loading--;\n      if (root._bokeh_is_loading === 0) {\n        console.debug(\"Bokeh: all BokehJS libraries/stylesheets loaded\");\n        run_callbacks()\n      }\n    }\n\n    function on_error(url) {\n      console.error(\"failed to load \" + url);\n    }\n\n    for (let i = 0; i < css_urls.length; i++) {\n      const url = css_urls[i];\n      const element = document.createElement(\"link\");\n      element.onload = on_load;\n      element.onerror = on_error.bind(null, url);\n      element.rel = \"stylesheet\";\n      element.type = \"text/css\";\n      element.href = url;\n      console.debug(\"Bokeh: injecting link tag for BokehJS stylesheet: \", url);\n      document.body.appendChild(element);\n    }\n\n    for (let i = 0; i < js_urls.length; i++) {\n      const url = js_urls[i];\n      const element = document.createElement('script');\n      element.onload = on_load;\n      element.onerror = on_error.bind(null, url);\n      element.async = false;\n      element.src = url;\n      console.debug(\"Bokeh: injecting script tag for BokehJS library: \", url);\n      document.head.appendChild(element);\n    }\n  };\n\n  function inject_raw_css(css) {\n    const element = document.createElement(\"style\");\n    element.appendChild(document.createTextNode(css));\n    document.body.appendChild(element);\n  }\n\n  \n  const js_urls = [\"https://cdn.bokeh.org/bokeh/release/bokeh-2.4.2.min.js\", \"https://cdn.bokeh.org/bokeh/release/bokeh-gl-2.4.2.min.js\", \"https://cdn.bokeh.org/bokeh/release/bokeh-widgets-2.4.2.min.js\", \"https://cdn.bokeh.org/bokeh/release/bokeh-tables-2.4.2.min.js\", \"https://cdn.bokeh.org/bokeh/release/bokeh-mathjax-2.4.2.min.js\"];\n  const css_urls = [];\n  \n\n  const inline_js = [\n    function(Bokeh) {\n      Bokeh.set_log_level(\"info\");\n    },\n    function(Bokeh) {\n    \n    \n    }\n  ];\n\n  function run_inline_js() {\n    \n    if (root.Bokeh !== undefined || force === true) {\n      \n    for (let i = 0; i < inline_js.length; i++) {\n      inline_js[i].call(root, root.Bokeh);\n    }\n    if (force === true) {\n        display_loaded();\n      }} else if (Date.now() < root._bokeh_timeout) {\n      setTimeout(run_inline_js, 100);\n    } else if (!root._bokeh_failed_load) {\n      console.log(\"Bokeh: BokehJS failed to load within specified timeout.\");\n      root._bokeh_failed_load = true;\n    } else if (force !== true) {\n      const cell = $(document.getElementById(\"3315\")).parents('.cell').data().cell;\n      cell.output_area.append_execute_result(NB_LOAD_WARNING)\n    }\n\n  }\n\n  if (root._bokeh_is_loading === 0) {\n    console.debug(\"Bokeh: BokehJS loaded, going straight to plotting\");\n    run_inline_js();\n  } else {\n    load_libs(css_urls, js_urls, function() {\n      console.debug(\"Bokeh: BokehJS plotting callback run at\", now());\n      run_inline_js();\n    });\n  }\n}(window));",
      "application/vnd.bokehjs_load.v0+json": ""
     },
     "metadata": {},
     "output_type": "display_data"
    }
   ],
   "source": [
    "from bokeh.plotting import figure, show\n",
    "from bokeh.models import ColumnDataSource\n",
    "from bokeh.io import output_notebook\n",
    "output_notebook()\n",
    "\n"
   ]
  },
  {
   "cell_type": "code",
   "execution_count": 69,
   "id": "1968a176-8324-4f45-b210-0a6987b3ea28",
   "metadata": {},
   "outputs": [],
   "source": [
    "TOOLTIPS = [ \n",
    "    (\"data\", \"$x\"),\n",
    "    (\"índice\", \"$y\"),\n",
    "]\n",
    "source = ColumnDataSource(dadddos)"
   ]
  },
  {
   "cell_type": "code",
   "execution_count": 73,
   "id": "27ed2328-1e4a-4c28-a679-4f5e587301ea",
   "metadata": {},
   "outputs": [
    {
     "ename": "RuntimeError",
     "evalue": "Models must be owned by only a single document, LinearScale(id='2272', ...) is already in a doc",
     "output_type": "error",
     "traceback": [
      "\u001b[0;31m---------------------------------------------------------------------------\u001b[0m",
      "\u001b[0;31mRuntimeError\u001b[0m                              Traceback (most recent call last)",
      "\u001b[1;32m/home/bossa/Projetos/MapaSaudeSC/process-data/SeriesPorRegiao.ipynb Cell 27'\u001b[0m in \u001b[0;36m<cell line: 4>\u001b[0;34m()\u001b[0m\n\u001b[1;32m      <a href='vscode-notebook-cell:/home/bossa/Projetos/MapaSaudeSC/process-data/SeriesPorRegiao.ipynb#ch0000026?line=1'>2</a>\u001b[0m p\u001b[39m.\u001b[39mline(x\u001b[39m=\u001b[39m\u001b[39m\"\u001b[39m\u001b[39mreferencia\u001b[39m\u001b[39m\"\u001b[39m, y\u001b[39m=\u001b[39mcidade_select\u001b[39m.\u001b[39mvalue\u001b[39m.\u001b[39msplit(\u001b[39m\"\u001b[39m\u001b[39m-\u001b[39m\u001b[39m\"\u001b[39m)[\u001b[39m0\u001b[39m],source\u001b[39m=\u001b[39msource, line_color\u001b[39m=\u001b[39m\u001b[39m\"\u001b[39m\u001b[39mred\u001b[39m\u001b[39m\"\u001b[39m)\n\u001b[1;32m      <a href='vscode-notebook-cell:/home/bossa/Projetos/MapaSaudeSC/process-data/SeriesPorRegiao.ipynb#ch0000026?line=2'>3</a>\u001b[0m p\u001b[39m.\u001b[39mline(x\u001b[39m=\u001b[39m\u001b[39m\"\u001b[39m\u001b[39mreferencia\u001b[39m\u001b[39m\"\u001b[39m, y\u001b[39m=\u001b[39mrrr, source\u001b[39m=\u001b[39msource)\n\u001b[0;32m----> <a href='vscode-notebook-cell:/home/bossa/Projetos/MapaSaudeSC/process-data/SeriesPorRegiao.ipynb#ch0000026?line=3'>4</a>\u001b[0m show(p)\n",
      "File \u001b[0;32m~/.local/share/virtualenvs/MapaSaudeSC-WJJ64HuV/lib/python3.8/site-packages/bokeh/io/showing.py:144\u001b[0m, in \u001b[0;36mshow\u001b[0;34m(obj, browser, new, notebook_handle, notebook_url, **kwargs)\u001b[0m\n\u001b[1;32m    <a href='file:///home/bossa/.local/share/virtualenvs/MapaSaudeSC-WJJ64HuV/lib/python3.8/site-packages/bokeh/io/showing.py?line=140'>141</a>\u001b[0m state \u001b[39m=\u001b[39m curstate()\n\u001b[1;32m    <a href='file:///home/bossa/.local/share/virtualenvs/MapaSaudeSC-WJJ64HuV/lib/python3.8/site-packages/bokeh/io/showing.py?line=142'>143</a>\u001b[0m \u001b[39mif\u001b[39;00m \u001b[39misinstance\u001b[39m(obj, LayoutDOM):\n\u001b[0;32m--> <a href='file:///home/bossa/.local/share/virtualenvs/MapaSaudeSC-WJJ64HuV/lib/python3.8/site-packages/bokeh/io/showing.py?line=143'>144</a>\u001b[0m     \u001b[39mreturn\u001b[39;00m _show_with_state(obj, state, browser, new, notebook_handle\u001b[39m=\u001b[39;49mnotebook_handle)\n\u001b[1;32m    <a href='file:///home/bossa/.local/share/virtualenvs/MapaSaudeSC-WJJ64HuV/lib/python3.8/site-packages/bokeh/io/showing.py?line=145'>146</a>\u001b[0m \u001b[39mdef\u001b[39;00m \u001b[39mis_application\u001b[39m(obj: Any) \u001b[39m-\u001b[39m\u001b[39m>\u001b[39m TypeGuard[Application]:\n\u001b[1;32m    <a href='file:///home/bossa/.local/share/virtualenvs/MapaSaudeSC-WJJ64HuV/lib/python3.8/site-packages/bokeh/io/showing.py?line=146'>147</a>\u001b[0m     \u001b[39mreturn\u001b[39;00m \u001b[39mgetattr\u001b[39m(obj, \u001b[39m'\u001b[39m\u001b[39m_is_a_bokeh_application_class\u001b[39m\u001b[39m'\u001b[39m, \u001b[39mFalse\u001b[39;00m)\n",
      "File \u001b[0;32m~/.local/share/virtualenvs/MapaSaudeSC-WJJ64HuV/lib/python3.8/site-packages/bokeh/io/showing.py:191\u001b[0m, in \u001b[0;36m_show_with_state\u001b[0;34m(obj, state, browser, new, notebook_handle)\u001b[0m\n\u001b[1;32m    <a href='file:///home/bossa/.local/share/virtualenvs/MapaSaudeSC-WJJ64HuV/lib/python3.8/site-packages/bokeh/io/showing.py?line=188'>189</a>\u001b[0m \u001b[39mif\u001b[39;00m state\u001b[39m.\u001b[39mnotebook:\n\u001b[1;32m    <a href='file:///home/bossa/.local/share/virtualenvs/MapaSaudeSC-WJJ64HuV/lib/python3.8/site-packages/bokeh/io/showing.py?line=189'>190</a>\u001b[0m     \u001b[39massert\u001b[39;00m state\u001b[39m.\u001b[39mnotebook_type \u001b[39mis\u001b[39;00m \u001b[39mnot\u001b[39;00m \u001b[39mNone\u001b[39;00m\n\u001b[0;32m--> <a href='file:///home/bossa/.local/share/virtualenvs/MapaSaudeSC-WJJ64HuV/lib/python3.8/site-packages/bokeh/io/showing.py?line=190'>191</a>\u001b[0m     comms_handle \u001b[39m=\u001b[39m run_notebook_hook(state\u001b[39m.\u001b[39;49mnotebook_type, \u001b[39m'\u001b[39;49m\u001b[39mdoc\u001b[39;49m\u001b[39m'\u001b[39;49m, obj, state, notebook_handle)\n\u001b[1;32m    <a href='file:///home/bossa/.local/share/virtualenvs/MapaSaudeSC-WJJ64HuV/lib/python3.8/site-packages/bokeh/io/showing.py?line=191'>192</a>\u001b[0m     shown \u001b[39m=\u001b[39m \u001b[39mTrue\u001b[39;00m\n\u001b[1;32m    <a href='file:///home/bossa/.local/share/virtualenvs/MapaSaudeSC-WJJ64HuV/lib/python3.8/site-packages/bokeh/io/showing.py?line=193'>194</a>\u001b[0m \u001b[39mif\u001b[39;00m state\u001b[39m.\u001b[39mfile \u001b[39mor\u001b[39;00m \u001b[39mnot\u001b[39;00m shown:\n",
      "File \u001b[0;32m~/.local/share/virtualenvs/MapaSaudeSC-WJJ64HuV/lib/python3.8/site-packages/bokeh/io/notebook.py:357\u001b[0m, in \u001b[0;36mrun_notebook_hook\u001b[0;34m(notebook_type, action, *args, **kwargs)\u001b[0m\n\u001b[1;32m    <a href='file:///home/bossa/.local/share/virtualenvs/MapaSaudeSC-WJJ64HuV/lib/python3.8/site-packages/bokeh/io/notebook.py?line=354'>355</a>\u001b[0m \u001b[39mif\u001b[39;00m _HOOKS[notebook_type][action] \u001b[39mis\u001b[39;00m \u001b[39mNone\u001b[39;00m:\n\u001b[1;32m    <a href='file:///home/bossa/.local/share/virtualenvs/MapaSaudeSC-WJJ64HuV/lib/python3.8/site-packages/bokeh/io/notebook.py?line=355'>356</a>\u001b[0m     \u001b[39mraise\u001b[39;00m \u001b[39mRuntimeError\u001b[39;00m(\u001b[39mf\u001b[39m\u001b[39m\"\u001b[39m\u001b[39mnotebook hook for \u001b[39m\u001b[39m{\u001b[39;00mnotebook_type\u001b[39m!r}\u001b[39;00m\u001b[39m did not install \u001b[39m\u001b[39m{\u001b[39;00maction\u001b[39m!r}\u001b[39;00m\u001b[39m action\u001b[39m\u001b[39m\"\u001b[39m)\n\u001b[0;32m--> <a href='file:///home/bossa/.local/share/virtualenvs/MapaSaudeSC-WJJ64HuV/lib/python3.8/site-packages/bokeh/io/notebook.py?line=356'>357</a>\u001b[0m \u001b[39mreturn\u001b[39;00m _HOOKS[notebook_type][action](\u001b[39m*\u001b[39;49margs, \u001b[39m*\u001b[39;49m\u001b[39m*\u001b[39;49mkwargs)\n",
      "File \u001b[0;32m~/.local/share/virtualenvs/MapaSaudeSC-WJJ64HuV/lib/python3.8/site-packages/bokeh/io/notebook.py:570\u001b[0m, in \u001b[0;36mshow_doc\u001b[0;34m(obj, state, notebook_handle)\u001b[0m\n\u001b[1;32m    <a href='file:///home/bossa/.local/share/virtualenvs/MapaSaudeSC-WJJ64HuV/lib/python3.8/site-packages/bokeh/io/notebook.py?line=565'>566</a>\u001b[0m \u001b[39m'''\u001b[39;00m\n\u001b[1;32m    <a href='file:///home/bossa/.local/share/virtualenvs/MapaSaudeSC-WJJ64HuV/lib/python3.8/site-packages/bokeh/io/notebook.py?line=566'>567</a>\u001b[0m \n\u001b[1;32m    <a href='file:///home/bossa/.local/share/virtualenvs/MapaSaudeSC-WJJ64HuV/lib/python3.8/site-packages/bokeh/io/notebook.py?line=567'>568</a>\u001b[0m \u001b[39m'''\u001b[39;00m\n\u001b[1;32m    <a href='file:///home/bossa/.local/share/virtualenvs/MapaSaudeSC-WJJ64HuV/lib/python3.8/site-packages/bokeh/io/notebook.py?line=568'>569</a>\u001b[0m \u001b[39mif\u001b[39;00m obj \u001b[39mnot\u001b[39;00m \u001b[39min\u001b[39;00m state\u001b[39m.\u001b[39mdocument\u001b[39m.\u001b[39mroots:\n\u001b[0;32m--> <a href='file:///home/bossa/.local/share/virtualenvs/MapaSaudeSC-WJJ64HuV/lib/python3.8/site-packages/bokeh/io/notebook.py?line=569'>570</a>\u001b[0m     state\u001b[39m.\u001b[39;49mdocument\u001b[39m.\u001b[39;49madd_root(obj)\n\u001b[1;32m    <a href='file:///home/bossa/.local/share/virtualenvs/MapaSaudeSC-WJJ64HuV/lib/python3.8/site-packages/bokeh/io/notebook.py?line=571'>572</a>\u001b[0m \u001b[39mfrom\u001b[39;00m \u001b[39m.\u001b[39;00m\u001b[39m.\u001b[39;00m\u001b[39membed\u001b[39;00m\u001b[39m.\u001b[39;00m\u001b[39mnotebook\u001b[39;00m \u001b[39mimport\u001b[39;00m notebook_content\n\u001b[1;32m    <a href='file:///home/bossa/.local/share/virtualenvs/MapaSaudeSC-WJJ64HuV/lib/python3.8/site-packages/bokeh/io/notebook.py?line=572'>573</a>\u001b[0m comms_target \u001b[39m=\u001b[39m make_id() \u001b[39mif\u001b[39;00m notebook_handle \u001b[39melse\u001b[39;00m \u001b[39mNone\u001b[39;00m\n",
      "File \u001b[0;32m~/.local/share/virtualenvs/MapaSaudeSC-WJJ64HuV/lib/python3.8/site-packages/bokeh/document/document.py:328\u001b[0m, in \u001b[0;36mDocument.add_root\u001b[0;34m(self, model, setter)\u001b[0m\n\u001b[1;32m    <a href='file:///home/bossa/.local/share/virtualenvs/MapaSaudeSC-WJJ64HuV/lib/python3.8/site-packages/bokeh/document/document.py?line=324'>325</a>\u001b[0m     \u001b[39mreturn\u001b[39;00m\n\u001b[1;32m    <a href='file:///home/bossa/.local/share/virtualenvs/MapaSaudeSC-WJJ64HuV/lib/python3.8/site-packages/bokeh/document/document.py?line=326'>327</a>\u001b[0m \u001b[39mwith\u001b[39;00m \u001b[39mself\u001b[39m\u001b[39m.\u001b[39mmodels\u001b[39m.\u001b[39mfreeze():\n\u001b[0;32m--> <a href='file:///home/bossa/.local/share/virtualenvs/MapaSaudeSC-WJJ64HuV/lib/python3.8/site-packages/bokeh/document/document.py?line=327'>328</a>\u001b[0m     \u001b[39mself\u001b[39m\u001b[39m.\u001b[39m_roots\u001b[39m.\u001b[39mappend(model)\n\u001b[1;32m    <a href='file:///home/bossa/.local/share/virtualenvs/MapaSaudeSC-WJJ64HuV/lib/python3.8/site-packages/bokeh/document/document.py?line=329'>330</a>\u001b[0m \u001b[39mself\u001b[39m\u001b[39m.\u001b[39mcallbacks\u001b[39m.\u001b[39mtrigger_on_change(RootAddedEvent(\u001b[39mself\u001b[39m, model, setter))\n",
      "File \u001b[0;32m/usr/lib/python3.8/contextlib.py:120\u001b[0m, in \u001b[0;36m_GeneratorContextManager.__exit__\u001b[0;34m(self, type, value, traceback)\u001b[0m\n\u001b[1;32m    <a href='file:///usr/lib/python3.8/contextlib.py?line=117'>118</a>\u001b[0m \u001b[39mif\u001b[39;00m \u001b[39mtype\u001b[39m \u001b[39mis\u001b[39;00m \u001b[39mNone\u001b[39;00m:\n\u001b[1;32m    <a href='file:///usr/lib/python3.8/contextlib.py?line=118'>119</a>\u001b[0m     \u001b[39mtry\u001b[39;00m:\n\u001b[0;32m--> <a href='file:///usr/lib/python3.8/contextlib.py?line=119'>120</a>\u001b[0m         \u001b[39mnext\u001b[39;49m(\u001b[39mself\u001b[39;49m\u001b[39m.\u001b[39;49mgen)\n\u001b[1;32m    <a href='file:///usr/lib/python3.8/contextlib.py?line=120'>121</a>\u001b[0m     \u001b[39mexcept\u001b[39;00m \u001b[39mStopIteration\u001b[39;00m:\n\u001b[1;32m    <a href='file:///usr/lib/python3.8/contextlib.py?line=121'>122</a>\u001b[0m         \u001b[39mreturn\u001b[39;00m \u001b[39mFalse\u001b[39;00m\n",
      "File \u001b[0;32m~/.local/share/virtualenvs/MapaSaudeSC-WJJ64HuV/lib/python3.8/site-packages/bokeh/document/models.py:135\u001b[0m, in \u001b[0;36mDocumentModelManager.freeze\u001b[0;34m(self)\u001b[0m\n\u001b[1;32m    <a href='file:///home/bossa/.local/share/virtualenvs/MapaSaudeSC-WJJ64HuV/lib/python3.8/site-packages/bokeh/document/models.py?line=132'>133</a>\u001b[0m \u001b[39mself\u001b[39m\u001b[39m.\u001b[39m_push_freeze()\n\u001b[1;32m    <a href='file:///home/bossa/.local/share/virtualenvs/MapaSaudeSC-WJJ64HuV/lib/python3.8/site-packages/bokeh/document/models.py?line=133'>134</a>\u001b[0m \u001b[39myield\u001b[39;00m\n\u001b[0;32m--> <a href='file:///home/bossa/.local/share/virtualenvs/MapaSaudeSC-WJJ64HuV/lib/python3.8/site-packages/bokeh/document/models.py?line=134'>135</a>\u001b[0m \u001b[39mself\u001b[39;49m\u001b[39m.\u001b[39;49m_pop_freeze()\n",
      "File \u001b[0;32m~/.local/share/virtualenvs/MapaSaudeSC-WJJ64HuV/lib/python3.8/site-packages/bokeh/document/models.py:276\u001b[0m, in \u001b[0;36mDocumentModelManager._pop_freeze\u001b[0;34m(self)\u001b[0m\n\u001b[1;32m    <a href='file:///home/bossa/.local/share/virtualenvs/MapaSaudeSC-WJJ64HuV/lib/python3.8/site-packages/bokeh/document/models.py?line=273'>274</a>\u001b[0m \u001b[39mself\u001b[39m\u001b[39m.\u001b[39m_freeze_count \u001b[39m-\u001b[39m\u001b[39m=\u001b[39m \u001b[39m1\u001b[39m\n\u001b[1;32m    <a href='file:///home/bossa/.local/share/virtualenvs/MapaSaudeSC-WJJ64HuV/lib/python3.8/site-packages/bokeh/document/models.py?line=274'>275</a>\u001b[0m \u001b[39mif\u001b[39;00m \u001b[39mself\u001b[39m\u001b[39m.\u001b[39m_freeze_count \u001b[39m==\u001b[39m \u001b[39m0\u001b[39m:\n\u001b[0;32m--> <a href='file:///home/bossa/.local/share/virtualenvs/MapaSaudeSC-WJJ64HuV/lib/python3.8/site-packages/bokeh/document/models.py?line=275'>276</a>\u001b[0m     \u001b[39mself\u001b[39;49m\u001b[39m.\u001b[39;49mrecompute()\n",
      "File \u001b[0;32m~/.local/share/virtualenvs/MapaSaudeSC-WJJ64HuV/lib/python3.8/site-packages/bokeh/document/models.py:224\u001b[0m, in \u001b[0;36mDocumentModelManager.recompute\u001b[0;34m(self)\u001b[0m\n\u001b[1;32m    <a href='file:///home/bossa/.local/share/virtualenvs/MapaSaudeSC-WJJ64HuV/lib/python3.8/site-packages/bokeh/document/models.py?line=220'>221</a>\u001b[0m     md\u001b[39m.\u001b[39m_detach_document()\n\u001b[1;32m    <a href='file:///home/bossa/.local/share/virtualenvs/MapaSaudeSC-WJJ64HuV/lib/python3.8/site-packages/bokeh/document/models.py?line=222'>223</a>\u001b[0m \u001b[39mfor\u001b[39;00m ma \u001b[39min\u001b[39;00m to_attach:\n\u001b[0;32m--> <a href='file:///home/bossa/.local/share/virtualenvs/MapaSaudeSC-WJJ64HuV/lib/python3.8/site-packages/bokeh/document/models.py?line=223'>224</a>\u001b[0m     ma\u001b[39m.\u001b[39;49m_attach_document(document)\n\u001b[1;32m    <a href='file:///home/bossa/.local/share/virtualenvs/MapaSaudeSC-WJJ64HuV/lib/python3.8/site-packages/bokeh/document/models.py?line=225'>226</a>\u001b[0m \u001b[39mself\u001b[39m\u001b[39m.\u001b[39m_models \u001b[39m=\u001b[39m recomputed\n\u001b[1;32m    <a href='file:///home/bossa/.local/share/virtualenvs/MapaSaudeSC-WJJ64HuV/lib/python3.8/site-packages/bokeh/document/models.py?line=226'>227</a>\u001b[0m \u001b[39mself\u001b[39m\u001b[39m.\u001b[39m_models_by_name \u001b[39m=\u001b[39m recomputed_by_name\n",
      "File \u001b[0;32m~/.local/share/virtualenvs/MapaSaudeSC-WJJ64HuV/lib/python3.8/site-packages/bokeh/model/model.py:580\u001b[0m, in \u001b[0;36mModel._attach_document\u001b[0;34m(self, doc)\u001b[0m\n\u001b[1;32m    <a href='file:///home/bossa/.local/share/virtualenvs/MapaSaudeSC-WJJ64HuV/lib/python3.8/site-packages/bokeh/model/model.py?line=576'>577</a>\u001b[0m     \u001b[39mreturn\u001b[39;00m\n\u001b[1;32m    <a href='file:///home/bossa/.local/share/virtualenvs/MapaSaudeSC-WJJ64HuV/lib/python3.8/site-packages/bokeh/model/model.py?line=578'>579</a>\u001b[0m \u001b[39mif\u001b[39;00m \u001b[39mself\u001b[39m\u001b[39m.\u001b[39mdocument \u001b[39mis\u001b[39;00m \u001b[39mnot\u001b[39;00m \u001b[39mNone\u001b[39;00m:\n\u001b[0;32m--> <a href='file:///home/bossa/.local/share/virtualenvs/MapaSaudeSC-WJJ64HuV/lib/python3.8/site-packages/bokeh/model/model.py?line=579'>580</a>\u001b[0m     \u001b[39mraise\u001b[39;00m \u001b[39mRuntimeError\u001b[39;00m(\u001b[39mf\u001b[39m\u001b[39m\"\u001b[39m\u001b[39mModels must be owned by only a single document, \u001b[39m\u001b[39m{\u001b[39;00m\u001b[39mself\u001b[39m\u001b[39m!r}\u001b[39;00m\u001b[39m is already in a doc\u001b[39m\u001b[39m\"\u001b[39m)\n\u001b[1;32m    <a href='file:///home/bossa/.local/share/virtualenvs/MapaSaudeSC-WJJ64HuV/lib/python3.8/site-packages/bokeh/model/model.py?line=581'>582</a>\u001b[0m doc\u001b[39m.\u001b[39mtheme\u001b[39m.\u001b[39mapply_to_model(\u001b[39mself\u001b[39m)\n\u001b[1;32m    <a href='file:///home/bossa/.local/share/virtualenvs/MapaSaudeSC-WJJ64HuV/lib/python3.8/site-packages/bokeh/model/model.py?line=582'>583</a>\u001b[0m \u001b[39mself\u001b[39m\u001b[39m.\u001b[39mdocument \u001b[39m=\u001b[39m doc\n",
      "\u001b[0;31mRuntimeError\u001b[0m: Models must be owned by only a single document, LinearScale(id='2272', ...) is already in a doc"
     ]
    }
   ],
   "source": [
    "\n",
    "p = figure(title=\"Bossa\",x_axis_type='datetime',tooltips=TOOLTIPS)\n",
    "p.line(x=\"referencia\", y=cidade_select.value.split(\"-\")[0],source=source, line_color=\"red\")\n",
    "p.line(x=\"referencia\", y=rrr, source=source)\n",
    "show(p)"
   ]
  },
  {
   "cell_type": "code",
   "execution_count": 54,
   "id": "f63ec6b4",
   "metadata": {},
   "outputs": [
    {
     "data": {
      "text/html": [
       "<div>\n",
       "<style scoped>\n",
       "    .dataframe tbody tr th:only-of-type {\n",
       "        vertical-align: middle;\n",
       "    }\n",
       "\n",
       "    .dataframe tbody tr th {\n",
       "        vertical-align: top;\n",
       "    }\n",
       "\n",
       "    .dataframe thead th {\n",
       "        text-align: right;\n",
       "    }\n",
       "</style>\n",
       "<table border=\"1\" class=\"dataframe\">\n",
       "  <thead>\n",
       "    <tr style=\"text-align: right;\">\n",
       "      <th></th>\n",
       "      <th>Blumenau</th>\n",
       "      <th>Médio Vale do Itajaí</th>\n",
       "    </tr>\n",
       "    <tr>\n",
       "      <th>referencia</th>\n",
       "      <th></th>\n",
       "      <th></th>\n",
       "    </tr>\n",
       "  </thead>\n",
       "  <tbody>\n",
       "    <tr>\n",
       "      <th>2013-05-01</th>\n",
       "      <td>NaN</td>\n",
       "      <td>NaN</td>\n",
       "    </tr>\n",
       "    <tr>\n",
       "      <th>2013-07-01</th>\n",
       "      <td>NaN</td>\n",
       "      <td>NaN</td>\n",
       "    </tr>\n",
       "    <tr>\n",
       "      <th>2013-08-01</th>\n",
       "      <td>NaN</td>\n",
       "      <td>0.000000</td>\n",
       "    </tr>\n",
       "    <tr>\n",
       "      <th>2013-09-01</th>\n",
       "      <td>NaN</td>\n",
       "      <td>0.001367</td>\n",
       "    </tr>\n",
       "    <tr>\n",
       "      <th>2013-10-01</th>\n",
       "      <td>NaN</td>\n",
       "      <td>0.000000</td>\n",
       "    </tr>\n",
       "    <tr>\n",
       "      <th>...</th>\n",
       "      <td>...</td>\n",
       "      <td>...</td>\n",
       "    </tr>\n",
       "    <tr>\n",
       "      <th>2021-10-01</th>\n",
       "      <td>0.821466</td>\n",
       "      <td>0.748339</td>\n",
       "    </tr>\n",
       "    <tr>\n",
       "      <th>2021-11-01</th>\n",
       "      <td>0.816008</td>\n",
       "      <td>0.675211</td>\n",
       "    </tr>\n",
       "    <tr>\n",
       "      <th>2021-12-01</th>\n",
       "      <td>0.687739</td>\n",
       "      <td>0.516768</td>\n",
       "    </tr>\n",
       "    <tr>\n",
       "      <th>2022-01-01</th>\n",
       "      <td>0.540366</td>\n",
       "      <td>0.452172</td>\n",
       "    </tr>\n",
       "    <tr>\n",
       "      <th>2022-02-01</th>\n",
       "      <td>0.349328</td>\n",
       "      <td>0.427796</td>\n",
       "    </tr>\n",
       "  </tbody>\n",
       "</table>\n",
       "<p>105 rows × 2 columns</p>\n",
       "</div>"
      ],
      "text/plain": [
       "            Blumenau   Médio Vale do Itajaí\n",
       "referencia                                 \n",
       "2013-05-01        NaN                   NaN\n",
       "2013-07-01        NaN                   NaN\n",
       "2013-08-01        NaN              0.000000\n",
       "2013-09-01        NaN              0.001367\n",
       "2013-10-01        NaN              0.000000\n",
       "...               ...                   ...\n",
       "2021-10-01   0.821466              0.748339\n",
       "2021-11-01   0.816008              0.675211\n",
       "2021-12-01   0.687739              0.516768\n",
       "2022-01-01   0.540366              0.452172\n",
       "2022-02-01   0.349328              0.427796\n",
       "\n",
       "[105 rows x 2 columns]"
      ]
     },
     "execution_count": 54,
     "metadata": {},
     "output_type": "execute_result"
    }
   ],
   "source": [
    "dadddos"
   ]
  },
  {
   "cell_type": "code",
   "execution_count": 92,
   "id": "139ec233",
   "metadata": {},
   "outputs": [],
   "source": [
    "df_estadual = pd.pivot_table(doenças[[\"referencia\", dd]], index=\"referencia\",  aggfunc=sum)"
   ]
  },
  {
   "cell_type": "code",
   "execution_count": 83,
   "id": "22e4c515",
   "metadata": {},
   "outputs": [
    {
     "data": {
      "text/plain": [
       "6910553"
      ]
     },
     "execution_count": 83,
     "metadata": {},
     "output_type": "execute_result"
    }
   ],
   "source": []
  },
  {
   "cell_type": "code",
   "execution_count": 85,
   "id": "82f37f60",
   "metadata": {},
   "outputs": [],
   "source": [
    "\n",
    "def pop_estadoo(ano):\n",
    "    if ano == 2022:\n",
    "        ano -= 1\n",
    "    elif ano == 2013:\n",
    "        ano += 1 \n",
    "    return população[str(ano)].sum()"
   ]
  },
  {
   "cell_type": "code",
   "execution_count": 93,
   "id": "511be230",
   "metadata": {},
   "outputs": [],
   "source": [
    "pope =  [pop_estadoo(ano) for ano in (df_estadual.index.values //100)]\n"
   ]
  },
  {
   "cell_type": "code",
   "execution_count": 100,
   "id": "36844136",
   "metadata": {},
   "outputs": [
    {
     "data": {
      "text/plain": [
       "referencia\n",
       "201305    0.000000\n",
       "201307    0.000000\n",
       "201308    0.000002\n",
       "201309    0.000004\n",
       "201310    0.000007\n",
       "            ...   \n",
       "202110    0.000689\n",
       "202111    0.000699\n",
       "202112    0.000531\n",
       "202201    0.000484\n",
       "202202    0.000405\n",
       "Name: Asma, Length: 105, dtype: float64"
      ]
     },
     "execution_count": 100,
     "metadata": {},
     "output_type": "execute_result"
    }
   ],
   "source": [
    "df_estadual[\"Asma\"]/ pope"
   ]
  },
  {
   "cell_type": "code",
   "execution_count": 101,
   "id": "9748272c",
   "metadata": {},
   "outputs": [
    {
     "data": {
      "text/html": [
       "<div>\n",
       "<style scoped>\n",
       "    .dataframe tbody tr th:only-of-type {\n",
       "        vertical-align: middle;\n",
       "    }\n",
       "\n",
       "    .dataframe tbody tr th {\n",
       "        vertical-align: top;\n",
       "    }\n",
       "\n",
       "    .dataframe thead th {\n",
       "        text-align: right;\n",
       "    }\n",
       "</style>\n",
       "<table border=\"1\" class=\"dataframe\">\n",
       "  <thead>\n",
       "    <tr style=\"text-align: right;\">\n",
       "      <th></th>\n",
       "      <th>Asma</th>\n",
       "    </tr>\n",
       "    <tr>\n",
       "      <th>referencia</th>\n",
       "      <th></th>\n",
       "    </tr>\n",
       "  </thead>\n",
       "  <tbody>\n",
       "    <tr>\n",
       "      <th>201305</th>\n",
       "      <td>0</td>\n",
       "    </tr>\n",
       "    <tr>\n",
       "      <th>201307</th>\n",
       "      <td>0</td>\n",
       "    </tr>\n",
       "    <tr>\n",
       "      <th>201308</th>\n",
       "      <td>12</td>\n",
       "    </tr>\n",
       "    <tr>\n",
       "      <th>201309</th>\n",
       "      <td>26</td>\n",
       "    </tr>\n",
       "    <tr>\n",
       "      <th>201310</th>\n",
       "      <td>49</td>\n",
       "    </tr>\n",
       "    <tr>\n",
       "      <th>...</th>\n",
       "      <td>...</td>\n",
       "    </tr>\n",
       "    <tr>\n",
       "      <th>202110</th>\n",
       "      <td>5056</td>\n",
       "    </tr>\n",
       "    <tr>\n",
       "      <th>202111</th>\n",
       "      <td>5133</td>\n",
       "    </tr>\n",
       "    <tr>\n",
       "      <th>202112</th>\n",
       "      <td>3897</td>\n",
       "    </tr>\n",
       "    <tr>\n",
       "      <th>202201</th>\n",
       "      <td>3551</td>\n",
       "    </tr>\n",
       "    <tr>\n",
       "      <th>202202</th>\n",
       "      <td>2973</td>\n",
       "    </tr>\n",
       "  </tbody>\n",
       "</table>\n",
       "<p>105 rows × 1 columns</p>\n",
       "</div>"
      ],
      "text/plain": [
       "            Asma\n",
       "referencia      \n",
       "201305         0\n",
       "201307         0\n",
       "201308        12\n",
       "201309        26\n",
       "201310        49\n",
       "...          ...\n",
       "202110      5056\n",
       "202111      5133\n",
       "202112      3897\n",
       "202201      3551\n",
       "202202      2973\n",
       "\n",
       "[105 rows x 1 columns]"
      ]
     },
     "execution_count": 101,
     "metadata": {},
     "output_type": "execute_result"
    }
   ],
   "source": [
    "df_estadual"
   ]
  },
  {
   "cell_type": "code",
   "execution_count": null,
   "id": "7092b38c",
   "metadata": {},
   "outputs": [],
   "source": []
  }
 ],
 "metadata": {
  "kernelspec": {
   "display_name": "Python 3 (ipykernel)",
   "language": "python",
   "name": "python3"
  },
  "language_info": {
   "codemirror_mode": {
    "name": "ipython",
    "version": 3
   },
   "file_extension": ".py",
   "mimetype": "text/x-python",
   "name": "python",
   "nbconvert_exporter": "python",
   "pygments_lexer": "ipython3",
   "version": "3.8.10"
  }
 },
 "nbformat": 4,
 "nbformat_minor": 5
}
